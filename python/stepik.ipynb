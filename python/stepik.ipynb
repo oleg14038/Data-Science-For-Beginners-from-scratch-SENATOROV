{
    "cells": [
        {
            "cell_type": "markdown",
            "metadata": {},
            "source": [
                "https://stepik.org/lesson/375661/step/9?unit=363411\n"
            ]
        },
        {
            "cell_type": "code",
            "execution_count": 1,
            "metadata": {},
            "outputs": [
                {
                    "data": {
                        "text/plain": [
                            "'\\nМодуль для демонстрации работы с уровнями \\nсотрудников и их категориями.\\n'"
                        ]
                    },
                    "execution_count": 1,
                    "metadata": {},
                    "output_type": "execute_result"
                }
            ],
            "source": [
                "\"\"\"Модуль для демонстрации работы с уровнями сотрудников и их категориями.\"\"\""
            ]
        },
        {
            "cell_type": "code",
            "execution_count": 7,
            "metadata": {},
            "outputs": [
                {
                    "name": "stdout",
                    "output_type": "stream",
                    "text": [
                        "Level of Ivan Ivanov: 2\n",
                        "middle\n",
                        "Level of Petr Petrov: 2\n",
                        "middle\n",
                        "Level of Sidor Sidorov: 3\n",
                        "junior\n"
                    ]
                }
            ],
            "source": [
                "workers = [\n",
                "    [\"Ivan\", \"Ivanov\", 100000, 2],\n",
                "    [\"Petr\", \"Petrov\", 150000, 2],\n",
                "    [\"Sidor\", \"Sidorov\", 200000, 3],\n",
                "]\n",
                "\n",
                "# Перебор списка workers для вывода и анализа уровня сотрудников\n",
                "for worker in workers:\n",
                "    name, surname, salary, level = worker\n",
                "    print(f\"Level of {name} {surname}: {level}\")\n",
                "\n",
                "    # Приведение уровня к целому числу\n",
                "    level = str(level)\n",
                "    # Обработка уровня сотрудника\n",
                "    if str(level) > \"2\":\n",
                "        print(\"junior\")\n",
                "    elif str(level) >= \"2\":\n",
                "        print(\"middle\")\n",
                "    else:\n",
                "        print(\"senior\")"
            ]
        }
    ],
    "metadata": {
        "kernelspec": {
            "display_name": "Python 3",
            "language": "python",
            "name": "python3"
        },
        "language_info": {
            "codemirror_mode": {
                "name": "ipython",
                "version": 3
            },
            "file_extension": ".py",
            "mimetype": "text/x-python",
            "name": "python",
            "nbconvert_exporter": "python",
            "pygments_lexer": "ipython3",
            "version": "3.11.5"
        }
    },
    "nbformat": 4,
    "nbformat_minor": 2
}
