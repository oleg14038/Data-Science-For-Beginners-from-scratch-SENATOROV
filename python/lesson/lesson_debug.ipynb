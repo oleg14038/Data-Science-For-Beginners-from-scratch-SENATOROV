{
    "cells": [
        {
            "cell_type": "code",
            "execution_count": null,
            "metadata": {},
            "outputs": [],
            "source": [
                "\"\"\"\n",
                "This module provides basic arithmetic operations.\n",
                "\n",
                "Functions.\n",
                "- add_numbers(num1, num2): Returns the sum of two numbers.\n",
                "\"\"\""
            ]
        },
        {
            "cell_type": "code",
            "execution_count": 47,
            "metadata": {},
            "outputs": [
                {
                    "name": "stdout",
                    "output_type": "stream",
                    "text": [
                        "Hello, Alice\n"
                    ]
                }
            ],
            "source": [
                "def greet(name1: str) -> None:\n",
                "    \"\"\"Print a greeting to the user.\n",
                "\n",
                "    Args.\n",
                "        name (str): The name of the person to greet.\n",
                "    \"\"\"\n",
                "    print(\"Hello, \" + name1)"
            ]
        },
        {
            "cell_type": "code",
            "execution_count": 48,
            "metadata": {},
            "outputs": [
                {
                    "name": "stdout",
                    "output_type": "stream",
                    "text": [
                        "5\n"
                    ]
                }
            ],
            "source": [
                "numbers = [1, 2, 3, 4, 5]\n",
                "print(numbers[4])"
            ]
        },
        {
            "cell_type": "code",
            "execution_count": 49,
            "metadata": {},
            "outputs": [
                {
                    "name": "stdout",
                    "output_type": "stream",
                    "text": [
                        "31\n"
                    ]
                }
            ],
            "source": [
                "def added(first: int, second: int) -> int:\n",
                "    \"\"\"Return the sum of two integers.\n",
                "\n",
                "    Args.\n",
                "        a (int): The first integer to add.\n",
                "        b (int): The second integer to add.\n",
                "\n",
                "    Return.\n",
                "        int: The sum of a and b.\n",
                "    \"\"\"\n",
                "    return first + second\n",
                "\n",
                "\n",
                "result3 = added(10, 21)\n",
                "print(result3)"
            ]
        },
        {
            "cell_type": "code",
            "execution_count": 50,
            "metadata": {},
            "outputs": [
                {
                    "name": "stdout",
                    "output_type": "stream",
                    "text": [
                        "Hello, Alice\n"
                    ]
                }
            ],
            "source": [
                "name = \"Alice\"\n",
                "print(\"Hello, \" + name)"
            ]
        },
        {
            "cell_type": "code",
            "execution_count": 51,
            "metadata": {},
            "outputs": [
                {
                    "name": "stdout",
                    "output_type": "stream",
                    "text": [
                        "division by zero\n"
                    ]
                }
            ],
            "source": [
                "x_deb = 10\n",
                "y_deb = 5\n",
                "try:\n",
                "    result1: int = int(x_deb / y_deb)\n",
                "    print(result1)\n",
                "except ZeroDivisionError:\n",
                "    print(\"Ошибка: деление на ноль.\")\n",
                "except ValueError:\n",
                "    print(\"Ошибка: неверное значение для преобразования.\")"
            ]
        },
        {
            "cell_type": "code",
            "execution_count": 58,
            "metadata": {},
            "outputs": [
                {
                    "name": "stdout",
                    "output_type": "stream",
                    "text": [
                        "Числа равны\n"
                    ]
                }
            ],
            "source": [
                "num = 10\n",
                "text = \"10\"\n",
                "if num == int(text):\n",
                "    print(\"Числа равны\")"
            ]
        },
        {
            "cell_type": "code",
            "execution_count": 53,
            "metadata": {},
            "outputs": [
                {
                    "name": "stdout",
                    "output_type": "stream",
                    "text": [
                        "15\n"
                    ]
                }
            ],
            "source": [
                "def adds(a_fer: int, b_sec: int) -> int:\n",
                "    \"\"\"Add two integers and returns the result_one.\n",
                "\n",
                "    Arg.\n",
                "        a (int): The first integer to add.\n",
                "        b (int): The second integer to add.\n",
                "\n",
                "    Return.\n",
                "        int: The sum of the two integers.\n",
                "    \"\"\"\n",
                "    return a_fer + b_sec\n",
                "\n",
                "\n",
                "result_one = adds(10, 5)\n",
                "print(result_one)"
            ]
        },
        {
            "cell_type": "code",
            "execution_count": 54,
            "metadata": {},
            "outputs": [
                {
                    "name": "stdout",
                    "output_type": "stream",
                    "text": [
                        "15\n"
                    ]
                }
            ],
            "source": [
                "def add_numbers(num1: int, num2: int) -> int:\n",
                "    \"\"\"Add two numbers and returns the result_two.\n",
                "\n",
                "    Arg.\n",
                "        a (int): The first number.\n",
                "        b (int): The second number.\n",
                "\n",
                "    Return.\n",
                "        int: The sum of the two numbers.\n",
                "    \"\"\"\n",
                "    result_two = num1 + num2\n",
                "\n",
                "    return result_two\n",
                "\n",
                "\n",
                "print(add_numbers(5, 10))"
            ]
        }
    ],
    "metadata": {
        "kernelspec": {
            "display_name": "base",
            "language": "python",
            "name": "python3"
        },
        "language_info": {
            "codemirror_mode": {
                "name": "ipython",
                "version": 3
            },
            "file_extension": ".py",
            "mimetype": "text/x-python",
            "name": "python",
            "nbconvert_exporter": "python",
            "pygments_lexer": "ipython3",
            "version": "3.11.5"
        }
    },
    "nbformat": 4,
    "nbformat_minor": 2
}
