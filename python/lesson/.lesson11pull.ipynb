{
    "cells": [
        {
            "cell_type": "code",
            "execution_count": null,
            "metadata": {},
            "outputs": [],
            "source": [
                "\"\"\"Steps: fork, clone, modify, commit, push, pull request.\"\"\""
            ]
        },
        {
            "cell_type": "markdown",
            "metadata": {},
            "source": [
                "1)Делаем fork \n",
                "\n",
                "2)склонировать на PC    \n",
                "\n",
                "3)Внесение измениение(for example:(Например) mypy , blackfork )\n",
                "\n",
                "4)git commit\n",
                "\n",
                "5)git push\n",
                "\n",
                "6)pull requests     "
            ]
        }
    ],
    "metadata": {
        "kernelspec": {
            "display_name": "base",
            "language": "python",
            "name": "python3"
        },
        "language_info": {
            "name": "python",
            "version": "3.11.5"
        }
    },
    "nbformat": 4,
    "nbformat_minor": 2
}
