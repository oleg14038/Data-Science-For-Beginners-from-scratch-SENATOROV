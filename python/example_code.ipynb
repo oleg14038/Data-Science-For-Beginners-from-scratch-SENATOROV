{
    "cells": [
        {
            "cell_type": "code",
            "execution_count": 2,
            "metadata": {},
            "outputs": [
                {
                    "data": {
                        "text/plain": [
                            "'Example code.'"
                        ]
                    },
                    "execution_count": 2,
                    "metadata": {},
                    "output_type": "execute_result"
                }
            ],
            "source": [
                "\"\"\"Example code.\"\"\""
            ]
        },
        {
            "cell_type": "markdown",
            "metadata": {},
            "source": [
                "Создание вертуального окружение нужно для изоляции одного проекта от другого "
            ]
        },
        {
            "cell_type": "markdown",
            "metadata": {},
            "source": [
                "Подкотовка к созданию окружения \n",
                "mkdir new_priject \n",
                "cd new_project \n"
            ]
        },
        {
            "cell_type": "markdown",
            "metadata": {},
            "source": [
                "Создание окружения \n",
                "Python -m venv venv # -m озночает что мы хотим запустить модуль, название модуля venv\n",
                "Python3 -m venv \n",
                "\n",
                "dir просмотра папок - windows \n",
                "ls - для Linux "
            ]
        },
        {
            "cell_type": "markdown",
            "metadata": {},
            "source": [
                "venv\\venv\\activet\n",
                "\n",
                "source vev/bin/activet - для Linux и Mac "
            ]
        },
        {
            "cell_type": "markdown",
            "metadata": {},
            "source": [
                "Выход \n",
                "deactivate"
            ]
        },
        {
            "cell_type": "markdown",
            "metadata": {},
            "source": [
                "pip - package Install Python - система управлния пакетами которая используется для установки и управления программными пакетами "
            ]
        },
        {
            "cell_type": "markdown",
            "metadata": {},
            "source": [
                "Для просмотра установленных   пакетов \n",
                "pip freeze "
            ]
        },
        {
            "cell_type": "markdown",
            "metadata": {},
            "source": [
                "pip  freeze > requerements.txt # Создали фаил с названием пакетов "
            ]
        },
        {
            "cell_type": "markdown",
            "metadata": {},
            "source": [
                "more название фаила для просмотра содержимого \n"
            ]
        },
        {
            "cell_type": "markdown",
            "metadata": {},
            "source": [
                "для установки на новый компютер старых библеотек \n",
                "install -r requerements.txt "
            ]
        },
        {
            "cell_type": "markdown",
            "metadata": {},
            "source": [
                "python для  акивации интепритатора "
            ]
        },
        {
            "cell_type": "markdown",
            "metadata": {},
            "source": [
                "константа это переменная которая не изменяеться в течение всего кода \n",
                "\n",
                "MAX_COUNT = 1000\n",
                "DAY = 60 * 60 * 24 # количество секунд в сутках \n"
            ]
        },
        {
            "cell_type": "markdown",
            "metadata": {},
            "source": [
                "age = None "
            ]
        },
        {
            "cell_type": "code",
            "execution_count": 15,
            "metadata": {},
            "outputs": [
                {
                    "name": "stdout",
                    "output_type": "stream",
                    "text": [
                        "140735274367512\n"
                    ]
                }
            ],
            "source": [
                "def print_variable_address(a_variable: int) -> None:\n",
                "    \"\"\"Print the memory address of the given variable.\n",
                "\n",
                "    Args:.\n",
                "        a_variable (int): The variable whose address is to be printed.\n",
                "    \"\"\"\n",
                "    print(id(a_variable))  # Returns the memory address of the object\n",
                "\n",
                "\n",
                "b_variable: int = 4\n",
                "print_variable_address(b_variable)"
            ]
        },
        {
            "cell_type": "markdown",
            "metadata": {},
            "source": [
                "Ввод и вывод данных \n",
                "print(*object, sep = \" \", end = \"\\n\", file =sys.studout, flush=False)"
            ]
        },
        {
            "cell_type": "code",
            "execution_count": 9,
            "metadata": {},
            "outputs": [
                {
                    "name": "stdout",
                    "output_type": "stream",
                    "text": [
                        "Цвета нету \n"
                    ]
                }
            ],
            "source": [
                "color = input(\"введите ваш любимый цвет: \")\n",
                "\n",
                "match color:\n",
                "    case \"Красный\" | \"Оранжевый\":  # | символ или\n",
                "        print(\"Любитель красного \")\n",
                "    case \"Зеленный\":\n",
                "        print(\"Охотник\")\n",
                "    case \"черный\" | \"белый\":\n",
                "        print(\"скучно\")\n",
                "    case _:  # case _: Равносилен else\n",
                "        print(\"Цвета нету \")"
            ]
        },
        {
            "cell_type": "code",
            "execution_count": 22,
            "metadata": {},
            "outputs": [
                {
                    "name": "stdout",
                    "output_type": "stream",
                    "text": [
                        "Значение равно 1\n"
                    ]
                }
            ],
            "source": [
                "def check_value_end(value_one: int) -> None:\n",
                "    \"\"\"Check the value and prints a corresponding message.\n",
                "\n",
                "    Args.\n",
                "        value_one (int): The integer value to check.\n",
                "    \"\"\"\n",
                "    match value_one:\n",
                "        case 1:\n",
                "            print(\"Значение равно 1\")\n",
                "        case 2:\n",
                "            print(\"Значение равно 2\")\n",
                "        case _:\n",
                "            print(\"Неизвестное значение\")\n",
                "\n",
                "\n",
                "check_value_end(1)"
            ]
        },
        {
            "cell_type": "markdown",
            "metadata": {},
            "source": [
                "def process_data_end(data_input: dict[str, int]) -> None:\n",
                "    \"\"\"Process the provided data and print its type.\n",
                "\n",
                "    Args:.\n",
                "        data_input (dict): The data to process.\n",
                "        which can be a tuple, list, or dictionary.\n",
                "    \"\"\"\n",
                "    pass\n",
                "    match data_input:\n",
                "        case (1, 2):\n",
                "            print(\"Data is a tuple (1, 2)\")\n",
                "        case [1, 2]:\n",
                "            print(\"Data is a list [1, 2]\")\n",
                "        case dict() if data_input:  # Checks if it's a non-empty dictionary\n",
                "            for key, value in data_input.items():\n",
                "                print(f\"Data is a dictionary with key '{key}' and value '{value}'\")\n",
                "        case _:\n",
                "            print(\"Unknown data structure\")\n",
                "\n",
                "\n",
                "# Example usage\n",
                "data_example = {\"oleg\": 18}  # Define a dictionary\n",
                "process_data_end(data_example)  # Process the dictionary"
            ]
        },
        {
            "cell_type": "markdown",
            "metadata": {},
            "source": [
                "Как это работает:\n",
                "\n",
                "    Кортеж (1, 2): Если данные — кортеж (1, 2), выполнится первый блок.\n",
                "    Список [1, 2]: Если данные — список [1, 2], выполнится второй блок.\n",
                "    Словарь: Если данные — словарь с ключом key, выполнится третий блок с выводом значения, ассоциированного с этим ключом.\n",
                "    Любая другая структура: Если данные не соответствуют ни одному из вышеуказанных шаблонов, будет выполнен блок с _."
            ]
        },
        {
            "cell_type": "code",
            "execution_count": 13,
            "metadata": {},
            "outputs": [
                {
                    "name": "stdout",
                    "output_type": "stream",
                    "text": [
                        "2 — положительное число\n"
                    ]
                }
            ],
            "source": [
                "def process_number(num_one: int) -> None:\n",
                "    \"\"\"Determine if the provided number is positive, negative, or zero.\n",
                "\n",
                "    Args:.\n",
                "        num_one (int): The number to be processed.\n",
                "    \"\"\"\n",
                "    match num_one:\n",
                "        case x if x > 0:\n",
                "            print(f\"{x} — положительное число\")\n",
                "        case x if x < 0:\n",
                "            print(f\"{x} — отрицательное число\")\n",
                "        case _:\n",
                "            print(\"Число равно нулю\")\n",
                "\n",
                "\n",
                "num_example = 2\n",
                "\n",
                "process_number(num_example)"
            ]
        },
        {
            "cell_type": "markdown",
            "metadata": {},
            "source": [
                "True and True = True \n",
                "\n",
                "False and True = False \n",
                "\n",
                "True and False = False \n",
                "\n",
                "False and False = False \n",
                "\n",
                "True or True = True \n",
                "\n",
                "False and True = True\n",
                "\n",
                "True and False = True \n",
                "\n",
                "False and False = False \n",
                "\n",
                "True not  True = False\n",
                "\n",
                "False not  True = True\n",
                "\n",
                "True and False = True \n",
                "\n",
                "False and False = False "
            ]
        },
        {
            "cell_type": "code",
            "execution_count": 12,
            "metadata": {},
            "outputs": [
                {
                    "name": "stdout",
                    "output_type": "stream",
                    "text": [
                        "Обычный\n"
                    ]
                }
            ],
            "source": [
                "year = int(input(\"Вв в формате yyyy: \"))\n",
                "if year % 4 != 0:\n",
                "    print(\"Обычный\")\n",
                "elif year % 100 == 0 and year % 400 == 0:\n",
                "    print(\"Весокосный\")\n",
                "else:\n",
                "    print(\"Обычный\")"
            ]
        },
        {
            "cell_type": "code",
            "execution_count": null,
            "metadata": {},
            "outputs": [],
            "source": [
                "my_math = int(input(\"2 + 2 = \"))\n",
                "print(\"Верно\" if 2 + 2 == my_math else \"Вы уверены\")  # Лучще так не надо\n",
                "# Тернарный оператор\n",
                "\n",
                "# Если условие if == True мы выводим \"Верно\"\n",
                "# Ecли else вы уверены"
            ]
        },
        {
            "cell_type": "code",
            "execution_count": 5,
            "metadata": {},
            "outputs": [
                {
                    "name": "stdout",
                    "output_type": "stream",
                    "text": [
                        "bob\n"
                    ]
                }
            ],
            "source": [
                "name = \"bob\"\n",
                "\n",
                "if name > \"Markus\":\n",
                "    # Cравнение строк проиходит лексекографическом порядке по алфавиту\n",
                "    print(name)\n",
                "else:\n",
                "    print(name)"
            ]
        },
        {
            "cell_type": "code",
            "execution_count": 15,
            "metadata": {},
            "outputs": [
                {
                    "name": "stdout",
                    "output_type": "stream",
                    "text": [
                        "\"apple\" идёт раньше \"banana\" в алфавитном порядке\n"
                    ]
                }
            ],
            "source": [
                "# Пример 1: Сравнение строк\n",
                "string1 = \"apple\"\n",
                "string2 = \"banana\"\n",
                "\n",
                "if string1 < string2:\n",
                "    print(f'\"{string1}\" идёт раньше \"{string2}\" в алфавитном порядке')\n",
                "else:\n",
                "    print(f'\"{string1}\" идёт позже \"{string2}\" в алфавитном порядке')"
            ]
        },
        {
            "cell_type": "markdown",
            "metadata": {},
            "source": [
                "В этом примере строка \"apple\" идёт раньше, чем строка \"banana\", поскольку 'a' < 'b' в алфавитном порядке"
            ]
        },
        {
            "cell_type": "markdown",
            "metadata": {},
            "source": [
                "Символьное сравнение: При сравнении строк \"apple\" и \"banana\" Python начинает сравнение с первого символа. Символ 'a' (из \"apple\") сравнивается с 'b' (из \"banana\"). Поскольку 'a' в алфавите идёт раньше 'b', строка \"apple\" считается меньшей"
            ]
        },
        {
            "cell_type": "markdown",
            "metadata": {},
            "source": [
                "Логический цикл while \n",
                "continue - возрашает в начала цикла \n",
                "\n",
                "break - досрочная выход из цикла \n",
                "\n",
                "действие после else "
            ]
        },
        {
            "cell_type": "code",
            "execution_count": null,
            "metadata": {},
            "outputs": [],
            "source": [
                "num_two = float(input(\"Введите число: \"))\n",
                "\n",
                "count_one = 0\n",
                "while count_one < num_two:\n",
                "    print(count_one)\n",
                "    count_one += 2  # синтакситечный сахар"
            ]
        },
        {
            "cell_type": "code",
            "execution_count": null,
            "metadata": {},
            "outputs": [],
            "source": [
                "num_three = float(input(\":>\"))\n",
                "\n",
                "STERP = 2\n",
                "\n",
                "limitet = num_three - STERP\n",
                "\n",
                "count_b = -STERP\n",
                "while count_b < limitet:\n",
                "    count_b += STERP\n",
                "    if count_b % 12 == 0:\n",
                "        continue\n",
                "    print(count_b)"
            ]
        },
        {
            "cell_type": "code",
            "execution_count": null,
            "metadata": {},
            "outputs": [],
            "source": [
                "min_limit = 0\n",
                "max_limit = 10\n",
                "\n",
                "while True:\n",
                "    print(\"Введите число\", min_limit, \"и\", max_limit, end=\" ? 213\")\n",
                "    num_zero = float(input())\n",
                "    if num_zero < min_limit or num_zero > max_limit:\n",
                "        print(\"Неверно\")\n",
                "    else:\n",
                "        break\n",
                "print(\"Было введено число \", num_zero)"
            ]
        },
        {
            "cell_type": "code",
            "execution_count": null,
            "metadata": {},
            "outputs": [],
            "source": [
                "min_limit_zero = 0\n",
                "max_limit_ten = 10\n",
                "count_a = 3\n",
                "num: None = None  # Для предотвращение ошибки если coun установят 0 или -1\n",
                "while count_a > 0:\n",
                "    print(\"Попытка\", count_a)\n",
                "    count_a -= 1\n",
                "    print(\"Введи число между\", min_limit_zero, \"и\", max_limit_ten, \"?\")\n",
                "    num_ren = float(input())\n",
                "    if num_zero < min_limit_zero or num_ren > max_limit_ten:\n",
                "        print(\"Неверно\")\n",
                "    else:\n",
                "        break\n",
                "else:\n",
                "    print(\"Исчерпаны все попытки\")\n",
                "    exit  # Выход из терминала, в\n",
                "    # функцию передается число отличие от 0\n",
                "\n",
                "print(\"Было введено число \", num)"
            ]
        },
        {
            "cell_type": "markdown",
            "metadata": {},
            "source": [
                "Цикл итератор for in \n",
                "\n",
                "range по целым числам \n",
                "\n",
                "функция enumerate()\n",
                "\n"
            ]
        },
        {
            "cell_type": "code",
            "execution_count": null,
            "metadata": {},
            "outputs": [],
            "source": [
                "date = [0, 1, 1, 2, 3, 5, 8, 13, 21]\n",
                "\n",
                "for _ in date:\n",
                "    print(_)"
            ]
        },
        {
            "cell_type": "code",
            "execution_count": null,
            "metadata": {},
            "outputs": [],
            "source": [
                "num_ren = int(input())\n",
                "\n",
                "for i_num in range(0, num_ren, 2):  # range(stop)\n",
                "    print(i_num)"
            ]
        },
        {
            "cell_type": "code",
            "execution_count": null,
            "metadata": {},
            "outputs": [],
            "source": [
                "count_number = 10\n",
                "for outer_loop in range(count_number):  # переберет 10\n",
                "    for middle_loop in range(count_number):  # переберет 100\n",
                "        for inner_loop in range(count_number):  # Переберет 1000\n",
                "            print(outer_loop, middle_loop, inner_loop)"
            ]
        },
        {
            "cell_type": "code",
            "execution_count": 12,
            "metadata": {},
            "outputs": [
                {
                    "name": "stdout",
                    "output_type": "stream",
                    "text": [
                        "1 cat\n",
                        "2 dog\n",
                        "3 wolf\n",
                        "4 rate\n",
                        "5 dragon\n"
                    ]
                }
            ],
            "source": [
                "animals = [\"cat\", \"dog\", \"wolf\", \"rate\", \"dragon\"]\n",
                "\n",
                "for i_key, animal in enumerate(animals, start=1):  # ключивое слова start = 1\n",
                "    print(i_key, animal)  # в счечик i передаем 1, слейдуюшие действие 1 + 1"
            ]
        }
    ],
    "metadata": {
        "kernelspec": {
            "display_name": "base",
            "language": "python",
            "name": "python3"
        },
        "language_info": {
            "codemirror_mode": {
                "name": "ipython",
                "version": 3
            },
            "file_extension": ".py",
            "mimetype": "text/x-python",
            "name": "python",
            "nbconvert_exporter": "python",
            "pygments_lexer": "ipython3",
            "version": "3.12.4"
        }
    },
    "nbformat": 4,
    "nbformat_minor": 2
}
