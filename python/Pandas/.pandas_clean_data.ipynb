{
    "cells": [
        {
            "cell_type": "code",
            "execution_count": 2,
            "metadata": {},
            "outputs": [],
            "source": [
                "\"\"\"\n",
                "Этот модуль выполняет обработку.\n",
                "\n",
                "данных с использованием библиотеки pandas.\n",
                "\"\"\"\n",
                "\n",
                "import pandas as pd"
            ]
        },
        {
            "cell_type": "code",
            "execution_count": null,
            "metadata": {},
            "outputs": [],
            "source": [
                "df_orig = pd.read_excel(\"https://raw.githubusercontent.com/\")\n",
                "df_copy = \"dm-fedorov/pandas_basic/master/pic/currency_cleanup.png\"\n",
                "\n",
                "df_resalt = df_orig + df_copy\n",
                "\n",
                "df_resalt"
            ]
        },
        {
            "cell_type": "markdown",
            "metadata": {},
            "source": [
                "<img src=\"https://raw.githubusercontent.com/dm-fedorov/pandas_basic/master/pic/currency_cleanup.png\">"
            ]
        },
        {
            "cell_type": "code",
            "execution_count": 34,
            "metadata": {},
            "outputs": [],
            "source": [
                "df_orig[\"Sales\"].astype(\"float\")  # Метод не работает не удаться\n",
                "# преобразовать строку в число с плавающий точкой"
            ]
        },
        {
            "cell_type": "code",
            "execution_count": null,
            "metadata": {},
            "outputs": [],
            "source": [
                "df = df_orig.copy()  # копируем df_orig в df\n",
                "df"
            ]
        },
        {
            "cell_type": "code",
            "execution_count": null,
            "metadata": {},
            "outputs": [],
            "source": [
                "df.info()  # Информация о нашем df"
            ]
        },
        {
            "cell_type": "code",
            "execution_count": null,
            "metadata": {},
            "outputs": [],
            "source": [
                "df.dtypes  # Показывает информацию о типах данных"
            ]
        },
        {
            "cell_type": "code",
            "execution_count": null,
            "metadata": {},
            "outputs": [],
            "source": [
                "dir(df[\"Sales\"])  # Выводим методы"
            ]
        },
        {
            "cell_type": "code",
            "execution_count": null,
            "metadata": {},
            "outputs": [],
            "source": [
                "df[\"Sales\"] = df[\"Sales\"].str.replace(\",\", \"\")\n",
                "df[\"Sales\"] = df[\"Sales\"].str.replace(\"$\", \"\")\n",
                "\n",
                "df[\"Sales\"]"
            ]
        },
        {
            "cell_type": "code",
            "execution_count": null,
            "metadata": {},
            "outputs": [],
            "source": [
                "df = df_orig.copy()\n",
                "\n",
                "# Применение функции type к каждому элементу столбца \"Sales\"\n",
                "df[\"Sales_Type\"] = df[\"Sales\"].apply(lambda x: type(x).__name__)\n",
                "\n",
                "print(df)"
            ]
        },
        {
            "cell_type": "code",
            "execution_count": 55,
            "metadata": {},
            "outputs": [
                {
                    "data": {
                        "text/html": [
                            "<div>\n",
                            "<style scoped>\n",
                            "    .dataframe tbody tr th:only-of-type {\n",
                            "        vertical-align: middle;\n",
                            "    }\n",
                            "\n",
                            "    .dataframe tbody tr th {\n",
                            "        vertical-align: top;\n",
                            "    }\n",
                            "\n",
                            "    .dataframe thead th {\n",
                            "        text-align: right;\n",
                            "    }\n",
                            "</style>\n",
                            "<table border=\"1\" class=\"dataframe\">\n",
                            "  <thead>\n",
                            "    <tr style=\"text-align: right;\">\n",
                            "      <th></th>\n",
                            "      <th>Customer</th>\n",
                            "      <th>Sales</th>\n",
                            "      <th>Sales_Type</th>\n",
                            "    </tr>\n",
                            "  </thead>\n",
                            "  <tbody>\n",
                            "    <tr>\n",
                            "      <th>0</th>\n",
                            "      <td>Jones Brothers</td>\n",
                            "      <td>500</td>\n",
                            "      <td>int</td>\n",
                            "    </tr>\n",
                            "    <tr>\n",
                            "      <th>1</th>\n",
                            "      <td>Beta Corp</td>\n",
                            "      <td>$1,000.00</td>\n",
                            "      <td>str</td>\n",
                            "    </tr>\n",
                            "    <tr>\n",
                            "      <th>2</th>\n",
                            "      <td>Globex Corp</td>\n",
                            "      <td>300.1</td>\n",
                            "      <td>float</td>\n",
                            "    </tr>\n",
                            "    <tr>\n",
                            "      <th>3</th>\n",
                            "      <td>Acme</td>\n",
                            "      <td>$750.01</td>\n",
                            "      <td>str</td>\n",
                            "    </tr>\n",
                            "    <tr>\n",
                            "      <th>4</th>\n",
                            "      <td>Initech</td>\n",
                            "      <td>300</td>\n",
                            "      <td>int</td>\n",
                            "    </tr>\n",
                            "    <tr>\n",
                            "      <th>5</th>\n",
                            "      <td>Hooli</td>\n",
                            "      <td>250</td>\n",
                            "      <td>int</td>\n",
                            "    </tr>\n",
                            "  </tbody>\n",
                            "</table>\n",
                            "</div>"
                        ],
                        "text/plain": [
                            "         Customer      Sales Sales_Type\n",
                            "0  Jones Brothers        500        int\n",
                            "1       Beta Corp  $1,000.00        str\n",
                            "2     Globex Corp      300.1      float\n",
                            "3            Acme    $750.01        str\n",
                            "4         Initech        300        int\n",
                            "5           Hooli        250        int"
                        ]
                    },
                    "execution_count": 55,
                    "metadata": {},
                    "output_type": "execute_result"
                }
            ],
            "source": [
                "df[\"Sales_Type\"] = df[\"Sales\"].apply(lambda x: type(x).__name__)\n",
                "\n",
                "df"
            ]
        },
        {
            "cell_type": "code",
            "execution_count": null,
            "metadata": {},
            "outputs": [],
            "source": [
                "type_series = df[\"Sales\"].apply(\n",
                "    lambda x: str(type(x))\n",
                ")  # Показывает количество типов данных"
            ]
        },
        {
            "cell_type": "code",
            "execution_count": null,
            "metadata": {},
            "outputs": [],
            "source": []
        }
    ],
    "metadata": {
        "kernelspec": {
            "display_name": "Python 3",
            "language": "python",
            "name": "python3"
        },
        "language_info": {
            "codemirror_mode": {
                "name": "ipython",
                "version": 3
            },
            "file_extension": ".py",
            "mimetype": "text/x-python",
            "name": "python",
            "nbconvert_exporter": "python",
            "pygments_lexer": "ipython3",
            "version": "3.11.5"
        }
    },
    "nbformat": 4,
    "nbformat_minor": 2
}
