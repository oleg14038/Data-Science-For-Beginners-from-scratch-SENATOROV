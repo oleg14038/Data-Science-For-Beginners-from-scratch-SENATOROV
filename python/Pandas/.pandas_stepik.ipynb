{
    "cells": [
        {
            "cell_type": "code",
            "execution_count": 1,
            "metadata": {},
            "outputs": [],
            "source": [
                "\"\"\"\n",
                "Этот модуль загружает данные из CSV-файла.\n",
                "\n",
                "и обрабатывает их с помощью библиотеки pandas.\n",
                "\"\"\"\n",
                "\n",
                "import pandas as pd"
            ]
        },
        {
            "cell_type": "code",
            "execution_count": 5,
            "metadata": {},
            "outputs": [],
            "source": [
                "file_path = \"C:/Users/Oleg/Downloads/lesson_1_data (1).csv\"\n",
                "\n",
                "df_r = pd.read_csv(file_path, encoding=\"windows-1251\", sep=\";\")\n",
                "df_f = pd.read_csv(file_path, encoding=\"windows-1251\", sep=\";\")\n",
                "\n",
                "df_full_name = df_r + df_f"
            ]
        },
        {
            "cell_type": "code",
            "execution_count": null,
            "metadata": {},
            "outputs": [],
            "source": [
                "# df.head(3)# выводим первые 3 столбца навой таблицы"
            ]
        },
        {
            "cell_type": "code",
            "execution_count": null,
            "metadata": {},
            "outputs": [],
            "source": [
                "# df.tail(1)# выводим последние столбцы"
            ]
        },
        {
            "cell_type": "code",
            "execution_count": 12,
            "metadata": {},
            "outputs": [
                {
                    "data": {
                        "text/plain": [
                            "(292, 8)"
                        ]
                    },
                    "execution_count": 35,
                    "metadata": {},
                    "output_type": "execute_result"
                }
            ],
            "source": [
                "# df.shape # (292, 8) выводим 292 строки 8 колонок"
            ]
        },
        {
            "cell_type": "code",
            "execution_count": null,
            "metadata": {},
            "outputs": [],
            "source": [
                "# df.dtypes # выводим типы данных"
            ]
        },
        {
            "cell_type": "code",
            "execution_count": null,
            "metadata": {},
            "outputs": [],
            "source": [
                "# f.describe()  # анализирует данные"
            ]
        },
        {
            "cell_type": "code",
            "execution_count": 9,
            "metadata": {},
            "outputs": [
                {
                    "data": {
                        "text/plain": [
                            "Index(['number', 'create_date', 'payment_date', 'title', 'status', 'money',\n",
                            "       'city', 'payment_system'],\n",
                            "      dtype='object')"
                        ]
                    },
                    "execution_count": 9,
                    "metadata": {},
                    "output_type": "execute_result"
                }
            ],
            "source": [
                "# df.columns  # Вызывае название калоники"
            ]
        },
        {
            "cell_type": "code",
            "execution_count": null,
            "metadata": {},
            "outputs": [],
            "source": [
                "df_ful = df_full_name.rename(\n",
                "    columns={\n",
                "        \"Номер\": \"number\",\n",
                "        \"Дата создания\": \"create_date\",\n",
                "        \"Дата оплаты\": \"payment_date\",\n",
                "        \"Title\": \"title\",\n",
                "        \"Статус\": \"status\",\n",
                "        \"Заработано\": \"maney\",\n",
                "        \"Город\": \"city\",\n",
                "        \"Платежная система\": \"payment_system\",\n",
                "    }\n",
                ")"
            ]
        },
        {
            "cell_type": "code",
            "execution_count": null,
            "metadata": {},
            "outputs": [],
            "source": [
                "df_ren = df_full_name.rename(columns={\"maney\": \"money\"})\n",
                "df_ren1 = df_full_name.rename(columns={\"Номер\": \"number\"})"
            ]
        },
        {
            "cell_type": "code",
            "execution_count": null,
            "metadata": {},
            "outputs": [],
            "source": [
                "all_maney = df_full_name.money.sum()  # Подсчитали общую сумму курсов\n",
                "all_maney"
            ]
        },
        {
            "cell_type": "code",
            "execution_count": 21,
            "metadata": {},
            "outputs": [],
            "source": [
                "money_by_city = (\n",
                "    df_full_name.groupby([\"title\", \"city\"], as_index=False)\n",
                "    .aggregate({\"maney\": \"sum\"})\n",
                "    .sort_values(\"maney\", ascending=False)\n",
                ")\n",
                "\n",
                "# df.groupby('title', as_index=False)\n",
                "# Эта строка группирует фрейм данных df по столбцу 'title'.\n",
                "#  Функция groupby собирает все строки с одинаковым значением\n",
                "# в столбце 'title' в отдельные группы.\n",
                "# Параметр as_index=False гарантирует, что столбец 'title'\n",
                "# не будет использоваться в качестве индекса в результирующем\n",
                "\n",
                "# Функция groupby\n",
                "# собирает все строки с одинаковым значением в столбце 'title'\n",
                "# в отдельные группы. Параметр as_index=False гарантирует,\n",
                "# что столбец 'title' не будет использоваться в качестве\n",
                "# индекса в результирующем фрейме данных.\n",
                "\n",
                "# aggregate({'mane': 'sum'})\n",
                "\n",
                "# Эта строка применяет функцию агрегирования к каждой группе,\n",
                "# вычисляя сумму столбца \"many\" внутри каждой группы.\n",
                "# Функция агрегирования используется для указания операции\n",
                "# агрегирования и столбцов, к которым она должна быть применена.\n",
                "# В этом случае он агрегирует столбец 'mane', используя функцию 'sum'.\n",
                "\n",
                "# Функция sort_values\n",
                "# позволяет вам указать столбец для сортировки\n",
                "# (в данном случае \"many\") и в каком порядке следует\n",
                "# выполнять сортировку: по возрастанию (ascending=True)\n",
                "# или по убыванию (ascending=False)."
            ]
        },
        {
            "cell_type": "code",
            "execution_count": 24,
            "metadata": {},
            "outputs": [
                {
                    "data": {
                        "text/plain": [
                            "992103.5900000001"
                        ]
                    },
                    "execution_count": 24,
                    "metadata": {},
                    "output_type": "execute_result"
                }
            ],
            "source": [
                "all_maney = df_full_name.money.sum()  # Подсчитали общую сумму курсов\n",
                "all_maney"
            ]
        },
        {
            "cell_type": "code",
            "execution_count": null,
            "metadata": {},
            "outputs": [],
            "source": [
                "money = (\n",
                "    df_full_name.groupby([\"title\", \"city\"], as_index=False)\n",
                "    .aggregate({\"money\": \"sum\"})\n",
                "    .sort_values(\"money\", ascending=False)\n",
                ")  # сортируем ascending=False\n",
                "money"
            ]
        },
        {
            "cell_type": "code",
            "execution_count": 244,
            "metadata": {},
            "outputs": [],
            "source": [
                "money.to_csv(\"money.csv\", index=False)  # Сохраняем фаил"
            ]
        },
        {
            "cell_type": "code",
            "execution_count": null,
            "metadata": {},
            "outputs": [],
            "source": [
                "df = pd.read_csv(\"C:/Users/Oleg/Downloads/lesson\")\n",
                "\n",
                "df_second = pd.read_csv(\"_1_data (1).csv\", encoding=\"windows-1251\", sep=\";\")\n",
                "\n",
                "df_full = df + df_second\n",
                "\n",
                "df_col = df_full.rename(\n",
                "    columns={\n",
                "        \"Номер\": \"number\",\n",
                "        \"Дата создания\": \"create_date\",\n",
                "        \"Дата оплаты\": \"payment_date\",\n",
                "        \"Title\": \"title\",\n",
                "        \"Статус\": \"status\",\n",
                "        \"Заработано\": \"money\",\n",
                "        \"Город\": \"city\",\n",
                "        \"Платежная система\": \"payment_system\",\n",
                "    }\n",
                ")\n",
                "\n",
                "money_sum = (\n",
                "    df.query(\"'status' == 'Завершен'\")\n",
                "    .groupby([\"title\", \"city\"], as_index=False)\n",
                "    .aggregate({\"money\": \"sum\", \"number\": \"count\"})\n",
                "    .sort_values(\"money\", ascending=True)\n",
                "    .rename(columns={\"number\": \"succes_orders\"})\n",
                ")\n",
                "\n",
                "money_sum.money.sum()"
            ]
        },
        {
            "cell_type": "code",
            "execution_count": null,
            "metadata": {},
            "outputs": [],
            "source": [
                "money_sum.money.sum()"
            ]
        },
        {
            "cell_type": "code",
            "execution_count": 34,
            "metadata": {},
            "outputs": [],
            "source": [
                "money_by_city.to_csv(\"money_by_city.csv\", index=False)"
            ]
        },
        {
            "cell_type": "code",
            "execution_count": 47,
            "metadata": {},
            "outputs": [
                {
                    "data": {
                        "text/plain": [
                            "992103.5900000001"
                        ]
                    },
                    "execution_count": 47,
                    "metadata": {},
                    "output_type": "execute_result"
                }
            ],
            "source": [
                "all_maney"
            ]
        }
    ],
    "metadata": {
        "kernelspec": {
            "display_name": "base",
            "language": "python",
            "name": "python3"
        },
        "language_info": {
            "codemirror_mode": {
                "name": "ipython",
                "version": 3
            },
            "file_extension": ".py",
            "mimetype": "text/x-python",
            "name": "python",
            "nbconvert_exporter": "python",
            "pygments_lexer": "ipython3",
            "version": "3.12.4"
        }
    },
    "nbformat": 4,
    "nbformat_minor": 2
}
