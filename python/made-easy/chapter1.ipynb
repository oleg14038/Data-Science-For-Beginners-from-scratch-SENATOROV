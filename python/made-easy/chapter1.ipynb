{
          "cells": [
                    {
                              "cell_type": "code",
                              "execution_count": null,
                              "metadata": {},
                              "outputs": [],
                              "source": [
                                        "\"\"\"\n",
                                        "Chapter 1: Introduction to Data Science and the Basics of Programming.\n",
                                        "\n",
                                        "This module provides an introduction to data science concepts.\n",
                                        "basics of programming.\n",
                                        "\n",
                                        "It covers fundamental programming constructs, data handling.\n",
                                        "\n",
                                        "introductory data analysis techniques.\n",
                                        "\"\"\"\n",
                                        "\n",
                                        "# Ваш код начинается здесь"
                              ]
                    },
                    {
                              "cell_type": "code",
                              "execution_count": 1,
                              "metadata": {},
                              "outputs": [
                                        {
                                                  "ename": "SyntaxError",
                                                  "evalue": "invalid syntax (847757418.py, line 1)",
                                                  "output_type": "error",
                                                  "traceback": [
                                                            "\u001b[0;36m  Cell \u001b[0;32mIn[1], line 1\u001b[0;36m\u001b[0m\n\u001b[0;31m    // ... existing code ...\u001b[0m\n\u001b[0m    ^\u001b[0m\n\u001b[0;31mSyntaxError\u001b[0m\u001b[0;31m:\u001b[0m invalid syntax\n"
                                                  ]
                                        }
                              ],
                              "source": [
                                        "// ... existing code ...\n",
                                        "from .variables import *\n",
                                        "from .objects import *\n",
                                        "# Removing the problematic import\n",
                                        "from .sequences import *\n",
                                        "from .numeric_types import *\n",
                                        "// ... existing code ..."
                              ]
                    },
                    {
                              "cell_type": "markdown",
                              "metadata": {},
                              "source": [
                                        "Chapter 1. Introduction to Data Science and the basics of Programming"
                              ]
                    },
                    {
                              "cell_type": "markdown",
                              "metadata": {},
                              "source": [
                                        "1 .3.7. The compiler"
                              ]
                    },
                    {
                              "cell_type": "markdown",
                              "metadata": {},
                              "source": [
                                        " Компилятор это программа, преобразующая исходный код в машинный \n",
                                        " \n"
                              ]
                    },
                    {
                              "cell_type": "markdown",
                              "metadata": {},
                              "source": [
                                        "1 .3.8. Interpreter\n"
                              ]
                    },
                    {
                              "cell_type": "markdown",
                              "metadata": {},
                              "source": [
                                        "Интерпретатор - это компьютерная про­\n",
                                        "грамма, которая непосредственно выполняет инструкции, написанные на языке \n",
                                        "программирования, без предварительной компиляции в программу на машинном \n",
                                        "языке\n"
                              ]
                    },
                    {
                              "cell_type": "markdown",
                              "metadata": {},
                              "source": [
                                        "1.3.9. What is an\n",
                                        "Integrated Development Environment (IDE)?"
                              ]
                    },
                    {
                              "cell_type": "markdown",
                              "metadata": {},
                              "source": [
                                        "Интегрированные среды разработки (IDE) — это программы, которые помогают разработчикам писать, тестировать и отлаживать код\n",
                                        "предположить, что для написания компьютерных программ существуют интегри­\n",
                                        "рованные среды разработки или IDE (lntegrated Development Environrnent). В этих \n",
                                        "программах есть специальные инструменты, необходимые для написания, отладки \n",
                                        "и ком.пиляции кода."
                              ]
                    }
          ],
          "metadata": {
                    "kernelspec": {
                              "display_name": "base",
                              "language": "python",
                              "name": "python3"
                    },
                    "language_info": {
                              "codemirror_mode": {
                                        "name": "ipython",
                                        "version": 3
                              },
                              "file_extension": ".py",
                              "mimetype": "text/x-python",
                              "name": "python",
                              "nbconvert_exporter": "python",
                              "pygments_lexer": "ipython3",
                              "version": "3.12.2"
                    }
          },
          "nbformat": 4,
          "nbformat_minor": 2
}
