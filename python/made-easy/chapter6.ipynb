{
 "cells": [
  {
   "cell_type": "code",
   "execution_count": null,
   "metadata": {},
   "outputs": [],
   "source": [
    "\"\"\"The module typing need for iteration.\"\"\"\n",
    "from typing import Iterator"
   ]
  },
  {
   "cell_type": "markdown",
   "metadata": {},
   "source": [
    "Функции 6 "
   ]
  },
  {
   "cell_type": "markdown",
   "metadata": {},
   "source": [
    "6.1 . Определение функций"
   ]
  },
  {
   "cell_type": "markdown",
   "metadata": {},
   "source": [
    "В Python функция - это группа связанных операторов, выполняющих определен\n",
    "ную задачу"
   ]
  },
  {
   "cell_type": "markdown",
   "metadata": {},
   "source": [
    "6.2. Типы функций\n",
    "\n",
    "Встроенные функции уже определены в Python и могут быть вызваны напря\n",
    "мую.\n",
    "\n",
    "Пользовательские функции - это объекты, которые создаются пользователем\n",
    "с помощью явного определения. Функция вызывается с тем же количеством ар\n",
    "гументов, что и в формальном описании функции"
   ]
  },
  {
   "cell_type": "markdown",
   "metadata": {},
   "source": [
    "список встроенных функций Python по алфавиту:\n",
    "\n",
    "    abs() — Возвращает абсолютное значение числа.\n",
    "    \n",
    "    all() — Возвращает True, если все элементы итерируемого объекта истинны (или если итерируемый объект пуст).\n",
    "    \n",
    "    any() — Возвращает True, если хотя бы один элемент итерируемого объекта истинный.\n",
    "    \n",
    "    ascii() — Возвращает строковое представление объекта, содержащего только ASCII-символы.\n",
    "   \n",
    "    bin() — Преобразует целое число в двоичное представление.\n",
    "    \n",
    "    bool() — Преобразует значение в булевое (логическое) значение True или False.\n",
    "    \n",
    "    breakpoint() — Включает встроенную отладку в точке вызова.\n",
    "    \n",
    "    bytearray() — Возвращает объект массива байтов.\n",
    "    \n",
    "    bytes() — Возвращает объект bytes.\n",
    "    \n",
    "    callable() — Проверяет, является ли объект вызываемым (может ли он быть вызван как функция).\n",
    "    \n",
    "    chr() — Преобразует код Unicode в соответствующий символ.\n",
    "    \n",
    "    classmethod() — Преобразует метод в метод класса.\n",
    "    \n",
    "    compile() — Компилирует исходный код в объект кода.\n",
    "    \n",
    "    complex() — Создаёт комплексное число.\n",
    "    \n",
    "    delattr() — Удаляет атрибут объекта.\n",
    "    \n",
    "    dict() — Создаёт словарь.\n",
    "    \n",
    "    dir() — Возвращает список атрибутов и методов объекта.\n",
    "    \n",
    "    divmod() — Возвращает частное и остаток от деления.\n",
    "    \n",
    "    enumerate() — Возвращает итератор с индексами и элементами.\n",
    "    \n",
    "    eval() — Выполняет строку как выражение Python.\n",
    "    \n",
    "    exec() — Выполняет строку как код Python.\n",
    "    \n",
    "    filter() — Возвращает итератор с отфильтрованными элементами итерируемого объекта.\n",
    "    \n",
    "    float() — Преобразует значение в число с плавающей запятой.\n",
    "    \n",
    "    format() — Форматирует строку.\n",
    "    \n",
    "    frozenset() — Возвращает неизменяемое множество.\n",
    "    \n",
    "    getattr() — Возвращает значение атрибута объекта.\n",
    "    \n",
    "    globals() — Возвращает словарь глобальных переменных.\n",
    "    \n",
    "    hasattr() — Проверяет, имеет ли объект указанный атрибут.\n",
    "    \n",
    "    hash() — Возвращает хеш-значение объекта.\n",
    "    \n",
    "    help() — Вызов встроенной системы помощи.\n",
    "    \n",
    "    hex() — Преобразует целое число в шестнадцатеричное представление.\n",
    "    \n",
    "    id() — Возвращает уникальный идентификатор объекта.\n",
    "    \n",
    "    input() — Принимает ввод от пользователя.\n",
    "    \n",
    "    int() — Преобразует значение в целое число.\n",
    "    \n",
    "    isinstance() — Проверяет, является ли объект экземпляром указанного класса.\n",
    "    \n",
    "    issubclass() — Проверяет, является ли класс подклассом другого класса.\n",
    "    \n",
    "    iter() — Возвращает итератор объекта.\n",
    "    \n",
    "    len() — Возвращает длину объекта.\n",
    "    \n",
    "    list() — Преобразует объект в список.\n",
    "    \n",
    "    locals() — Возвращает словарь локальных переменных.\n",
    "    \n",
    "    map() — Применяет функцию к каждому элементу итерируемого объекта.\n",
    "    \n",
    "    max() — Возвращает максимальный элемент итерируемого объекта.\n",
    "    \n",
    "    memoryview() — Возвращает объект памяти.\n",
    "    \n",
    "    min() — Возвращает минимальный элемент итерируемого объекта.\n",
    "    \n",
    "    next() — Возвращает следующий элемент итератора.\n",
    "    \n",
    "    object() — Возвращает новый объект.\n",
    "    \n",
    "    oct() — Преобразует целое число в восьмеричное представление.\n",
    "    open() — Открывает файл и возвращает файловый объект.\n",
    "    \n",
    "    ord() — Возвращает код символа Unicode.\n",
    "    \n",
    "    pow() — Возводит число в степень.\n",
    "    \n",
    "    print() — Выводит данные на экран.\n",
    "    \n",
    "    property() — Возвращает объект свойства.\n",
    "    \n",
    "    range() — Возвращает последовательность чисел.\n",
    "    \n",
    "    repr() — Возвращает строковое представление объекта.\n",
    "    \n",
    "    reversed() — Возвращает обратный итератор.\n",
    "    \n",
    "    round() — Округляет число до указанного количества знаков.\n",
    "    \n",
    "    set() — Создаёт множество.\n",
    "    \n",
    "    setattr() — Устанавливает атрибут объекта.\n",
    "    \n",
    "    slice() — Возвращает объект среза.\n",
    "    \n",
    "    sorted() — Возвращает отсортированный список.\n",
    "    \n",
    "    staticmethod() — Преобразует метод в статический метод.\n",
    "    \n",
    "    str() — Преобразует объект в строку.\n",
    "    \n",
    "    sum() — Возвращает сумму элементов итерируемого объекта.\n",
    "    \n",
    "    super() — Возвращает объект родительского класса.\n",
    "    \n",
    "    tuple() — Преобразует объект в кортеж.\n",
    "    \n",
    "    type_color() — Возвращает тип объекта.\n",
    "   \n",
    "    vars() — Возвращает словарь атрибутов объекта.\n",
    "    \n",
    "    zip() — Объединяет элементы нескольких итерируемых объектов.\n",
    "    \n",
    "    import() — Импортирует модуль по его имени."
   ]
  },
  {
   "cell_type": "markdown",
   "metadata": {},
   "source": [
    "abs()\n",
    "\n",
    "Возвращает абсолютное значение числа\n",
    "\n",
    "print(abs(-5))  # Вывод: 5\n",
    "\n",
    "Аргумент может быть целым числом или числом с плавающей точкой. Если аргумент \n",
    "\n",
    "комплексное число, возвращается его абсолютное значение"
   ]
  },
  {
   "cell_type": "markdown",
   "metadata": {},
   "source": [
    "all()\n",
    "\n",
    "Возвращает True, если все элементы итерируемого объекта истинны\n",
    "\n",
    "print(all([True, True, False]))  \n",
    "\n",
    "Вывод: False\n"
   ]
  },
  {
   "cell_type": "markdown",
   "metadata": {},
   "source": [
    "any()\n",
    "\n",
    "Возвращает True, если хотя бы один элемент итерируемого объекта истинный\n",
    "\n",
    "print(any([False, True, False]))  # Вывод: True\n",
    "\n",
    "Если итерируемый объект пуст, возвращается False."
   ]
  },
  {
   "cell_type": "markdown",
   "metadata": {},
   "source": [
    "ascii()\n",
    "\n",
    "Возвращает строковое представление объекта, содержащего только ASCII-символы.\n",
    "\n",
    "print(ascii(\"Привет\"))  # Вывод: '\\u041f\\u0440\\u0438\\u0432\\u0435\\u0442'\n"
   ]
  },
  {
   "cell_type": "markdown",
   "metadata": {},
   "source": [
    "bin()\n",
    "\n",
    "Преобразует целое число в двоичное представление.\n",
    "\n",
    "print(bin(10))  # Вывод: '0b1010'\n"
   ]
  },
  {
   "cell_type": "markdown",
   "metadata": {},
   "source": [
    "bool()\n",
    "\n",
    "Преобразует значение в булевое значение True или False\n",
    "\n",
    "print(bool(0))  # Вывод: False\n"
   ]
  },
  {
   "cell_type": "markdown",
   "metadata": {},
   "source": [
    "breakpoint()\n",
    "\n",
    "Включает встроенную отладку в точке вызова\n",
    "\n",
    "breakpoint()  # Откроет интерактивную отладку.\n"
   ]
  },
  {
   "cell_type": "markdown",
   "metadata": {},
   "source": [
    "bytearray()\n",
    "\n",
    "Возвращает объект массива байтов\n",
    "\n",
    "print(bytearray(4))  # Вывод: bytearray(b'\\x00\\x00\\x00\\x00')\n"
   ]
  },
  {
   "cell_type": "markdown",
   "metadata": {},
   "source": [
    "bytes()\n",
    "\n",
    "Возвращает объект bytes.\n",
    "\n",
    "print(bytes(4))  # Вывод: b'\\x00\\x00\\x00\\x00'\n"
   ]
  },
  {
   "cell_type": "markdown",
   "metadata": {},
   "source": [
    " callable()\n",
    "\n",
    "Проверяет, является ли объект вызываемым (как функция).\n",
    "\n",
    "print(callable(print))  # Вывод: True\n"
   ]
  },
  {
   "cell_type": "markdown",
   "metadata": {},
   "source": [
    " chr()\n",
    "\n",
    "Преобразует код Unicode в символ.\n",
    "\n",
    "print(chr(97))  # Вывод: 'a'\n",
    "\n",
    "chr (i) возвращает строку, представляющую собой символ, кодировка которого\n",
    "\n",
    "в таблице Unicode равна i. Например, chr (97) возвращает строку  'а', а chr(8 364)\n",
    "\n",
    "возащает строку ' € ' . Функция обратна функции ord ( )\n"
   ]
  },
  {
   "cell_type": "markdown",
   "metadata": {},
   "source": [
    "classmethod()\n",
    "\n",
    "Преобразует метод в метод класса.\n",
    "\n",
    "class MyClass:\n",
    "    @classmethod\n",
    "    def my_class_method(cls):\n",
    "        print(f\"Called from {cls}\")\n",
    "\n",
    "MyClass.my_class_method()  # Вывод: Called from <class '__main__.MyClass'>\n",
    "\n"
   ]
  },
  {
   "cell_type": "markdown",
   "metadata": {},
   "source": [
    "compile()\n",
    "\n",
    "Компилирует исходный код в объект кода.\n",
    "\n",
    "print(complex(1, 2))  # Вывод: (1+2j)\n",
    "\n"
   ]
  },
  {
   "cell_type": "markdown",
   "metadata": {},
   "source": [
    "delattr()\n",
    "\n",
    "Удаляет атрибут объекта.\n",
    "\n",
    "class MyClass:\n",
    "    x = 10\n",
    "\n",
    "obj = MyClass()\n",
    "delattr(obj, 'x')\n"
   ]
  },
  {
   "cell_type": "markdown",
   "metadata": {},
   "source": [
    " dict()\n",
    "\n",
    "Создаёт словарь. \n",
    "\n",
    "print(dict(a=1, b=2))  # Вывод: {'a': 1, 'b': 2}\n"
   ]
  },
  {
   "cell_type": "markdown",
   "metadata": {},
   "source": [
    "dir()\n",
    "\n",
    "Возвращает список атрибутов и методов объекта.\n",
    "\n",
    "print(dir([]))  # Вывод: ['append', 'clear', 'copy', ...]\n",
    "\n",
    "\n",
    "dir ([oЬjectJ]) при вызове без аргумента возвращает список имен всех локальных\n",
    "\n",
    "объектов. С аргументом возвращает список допустимых атрибутов для передан\n",
    "\n",
    "ного объекта"
   ]
  },
  {
   "cell_type": "markdown",
   "metadata": {},
   "source": [
    "divmod()\n",
    "\n",
    "Возвращает частное и остаток от деления.\n",
    "\n",
    "print(divmod(9, 2))  # Вывод: (4, 1)\n"
   ]
  },
  {
   "cell_type": "markdown",
   "metadata": {},
   "source": [
    "enumerate()\n",
    "\n",
    "Возвращает итератор с индексами и элементами\n",
    "\n",
    "for index, value in enumerate(['a', 'b', 'c']):\n",
    "    \n",
    "    print(index, value)\n",
    "Вывод:\n",
    "\n",
    "0 a\n",
    "\n",
    "1 b\n",
    "\n",
    "2 c\n"
   ]
  },
  {
   "cell_type": "markdown",
   "metadata": {},
   "source": [
    "eval()\n",
    "\n",
    "Выполняет строку как выражение Python.\n",
    "\n",
    "print(eval('1 + 2'))  # Вывод: 3\n"
   ]
  },
  {
   "cell_type": "markdown",
   "metadata": {},
   "source": [
    " exec()\n",
    "\n",
    "Выполняет строку как код Python.\n",
    "\n",
    "exec('x = 5; print(x)')  # Вывод: 5\n"
   ]
  },
  {
   "cell_type": "markdown",
   "metadata": {},
   "source": [
    "filter()\n",
    "\n",
    "Возвращает итератор с отфильтрованными элементами\n",
    "\n",
    "print(list(filter(lambda x: x > 0, [-1, 0, 1, 2])))  # Вывод: [1, 2]\n"
   ]
  },
  {
   "cell_type": "markdown",
   "metadata": {},
   "source": [
    ". float()\n",
    "\n",
    "Преобразует значение в число с плавающей запятой.\n",
    "\n",
    "print(float(\"3.14\"))  # Вывод: 3.14\n"
   ]
  },
  {
   "cell_type": "markdown",
   "metadata": {},
   "source": [
    "format()\n",
    "\n",
    "Форматирует строку.\n",
    "\n",
    "print(\"{:.2f}\".format(3.14159))  # Вывод: 3.14\n"
   ]
  },
  {
   "cell_type": "markdown",
   "metadata": {},
   "source": [
    "frozenset()\n",
    "\n",
    "Возвращает неизменяемое множество.\n",
    "\n",
    "fs = frozenset([1, 2, 3])\n",
    "\n",
    "print(fs)  \n",
    "\n",
    "Вывод: frozenset({1, 2, 3})\n"
   ]
  },
  {
   "cell_type": "markdown",
   "metadata": {},
   "source": [
    "getattr()\n",
    "\n",
    "Возвращает значение атрибута объекта.\n",
    "\n",
    "class MyClass:\n",
    "    \n",
    "    x = 10\n",
    "\n",
    "obj = MyClass()\n",
    "\n",
    "print(getattr(obj, 'x'))  # Вывод: 10\n"
   ]
  },
  {
   "cell_type": "markdown",
   "metadata": {},
   "source": [
    "globals()\n",
    "\n",
    "Возвращает словарь глобальных переменных.\n",
    "\n",
    "print(globals())  # Выводит глобальные переменные.\n"
   ]
  },
  {
   "cell_type": "markdown",
   "metadata": {},
   "source": [
    "hasattr()\n",
    "\n",
    "Проверяет, имеет ли объект указанный атрибут.\n",
    "\n",
    "class MyClass:\n",
    "    x = 10\n",
    "\n",
    "obj = MyClass()\n",
    "print(hasattr(obj, 'x'))  # Вывод: True\n"
   ]
  },
  {
   "cell_type": "markdown",
   "metadata": {},
   "source": [
    "hash()\n",
    "\n",
    "Возвращает хеш-значение объекта.\n"
   ]
  },
  {
   "cell_type": "markdown",
   "metadata": {},
   "source": [
    "print(hash(\"test\"))  # Вывод: хеш-значение\n"
   ]
  },
  {
   "cell_type": "markdown",
   "metadata": {},
   "source": [
    "help()\n",
    "\n",
    "Вызывает встроенную систему помощи.\n",
    "\n",
    "help(print)  # Выводит справку о функции print.\n"
   ]
  },
  {
   "cell_type": "markdown",
   "metadata": {},
   "source": [
    "hex()\n",
    "\n",
    "Преобразует целое число в шестнадцатеричное представление\n",
    "\n",
    "print(hex(255))  # Вывод: '0xff'\n"
   ]
  },
  {
   "cell_type": "markdown",
   "metadata": {},
   "source": [
    "id()\n",
    "\n",
    "Возвращает уникальный идентификатор объекта.\n",
    "\n",
    "print(id(123))  # Вывод: уникальный идентификатор объекта\n"
   ]
  },
  {
   "cell_type": "markdown",
   "metadata": {},
   "source": [
    "input()\n",
    "\n",
    "Принимает ввод от пользователя\n",
    "\n",
    "name = input(\"Введите ваше имя: \")\n",
    "\n",
    "print(name)\n"
   ]
  },
  {
   "cell_type": "markdown",
   "metadata": {},
   "source": [
    "int()\n",
    "\n",
    "Преобразует значение в целое число.\n",
    "\n",
    "print(int(\"10\"))  # Вывод: 10\n"
   ]
  },
  {
   "cell_type": "markdown",
   "metadata": {},
   "source": [
    "isinstance()\n",
    "\n",
    "Проверяет, является ли объект экземпляром указанного класса.\n",
    "\n",
    "print(isinstance(10, int))  # Вывод: True\n",
    "\n",
    "\n",
    "isinstance (oЬject, classinfo) возвращает True, если аргумент object является \n",
    "\n",
    "экземпляром класса classinfo или его подклассом (прямым, косвенным или вирту\n",
    "\n",
    "альным). Если объект не является объектом данного типа, функция возвращает\n",
    "\n",
    "False."
   ]
  },
  {
   "cell_type": "markdown",
   "metadata": {},
   "source": [
    "issubclass()\n",
    "\n",
    "Проверяет, является ли класс подклассом другого класса\n",
    "\n",
    "class A: pass\n",
    "\n",
    "class B(A): pass\n",
    "\n",
    "print(issubclass(B, A))  # Вывод: True\n",
    "\n"
   ]
  },
  {
   "cell_type": "markdown",
   "metadata": {},
   "source": [
    ". iter()\n",
    "\n",
    "Возвращает итератор объекта.\n",
    "\n",
    "it = iter([1, 2, 3])\n",
    "\n",
    "print(next(it))  # Вывод: 1\n"
   ]
  },
  {
   "cell_type": "markdown",
   "metadata": {},
   "source": [
    " len()\n",
    "\n",
    "Возвращает длину объекта.\n",
    "\n",
    "print(len([1, 2, 3]))  # Вывод: 3\n"
   ]
  },
  {
   "cell_type": "markdown",
   "metadata": {},
   "source": [
    "list()\n",
    "\n",
    "Преобразует объект в список.\n",
    "\n",
    "print(list(\"abc\"))  # Вывод: ['a', 'b', 'c']\n",
    "\n"
   ]
  },
  {
   "cell_type": "markdown",
   "metadata": {},
   "source": [
    "locals()\n",
    "\n",
    "Возвращает словарь локальных переменных.\n",
    "\n",
    "def func():\n",
    "    \n",
    "    x = 10\n",
    "    \n",
    "    print(locals())\n",
    "\n",
    "func()\n",
    "\n",
    "    \n",
    "{'x': 10}\n"
   ]
  },
  {
   "cell_type": "markdown",
   "metadata": {},
   "source": [
    "map()\n",
    "\n",
    "Применяет функцию к каждому элементу итерируемого объекта.\n",
    "\n",
    "print(list(map(lambda x: x**2, [1, 2, 3])))  # Вывод: [1, 4, 9]\n"
   ]
  },
  {
   "cell_type": "markdown",
   "metadata": {},
   "source": [
    "max()\n",
    "\n",
    "Возвращает максимальный элемент.\n",
    "\n",
    "print(max([1, 2, 3]))  # Вывод: 3\n"
   ]
  },
  {
   "cell_type": "markdown",
   "metadata": {},
   "source": [
    "memoryview()\n",
    "\n",
    "Возвращает объект памяти.\n",
    "\n",
    "b = bytearray('abc', 'utf-8')\n",
    "\n",
    "mv = memoryview(b)\n",
    "\n",
    "print(mv[0])  # Вывод: 97\n",
    "\n"
   ]
  },
  {
   "cell_type": "markdown",
   "metadata": {},
   "source": [
    "min()\n",
    "\n",
    "Возвращает минимальный элемент.\n",
    "\n",
    "print(min([1, 2, 3]))  # Вывод: 1\n",
    "\n"
   ]
  },
  {
   "cell_type": "markdown",
   "metadata": {},
   "source": [
    "next()\n",
    "\n",
    "Возвращает следующий элемент итератора.\n",
    "\n",
    "it = iter([1, 2, 3])\n"
   ]
  },
  {
   "cell_type": "markdown",
   "metadata": {},
   "source": [
    "open (file) открывает файл и возвращает соответствующий файловый объект"
   ]
  },
  {
   "cell_type": "markdown",
   "metadata": {},
   "source": [
    "ord(c) принимает строку, состоящую из одного символа Unicode, и возвращает\n",
    "\n",
    "целое число, представляющее код Unicode этого символа. Например, ord ( ' а ' )\n",
    "\n",
    "возвращает 97, а ord ( ' € ' ) возвращает вз 64. Функция обратна chr ( )"
   ]
  },
  {
   "cell_type": "markdown",
   "metadata": {},
   "source": [
    "repr (oЬjects) возвращает строку, содержащую формальное строковое представ\n",
    "ление объекта"
   ]
  },
  {
   "cell_type": "markdown",
   "metadata": {},
   "source": [
    "reversed(seq) возвращает итератор в обратном порядке"
   ]
  },
  {
   "cell_type": "markdown",
   "metadata": {},
   "source": [
    "round(m.пaЬer [ , ndigits] ) округляет число с точностью до ndigits знаков \n",
    "\n",
    "после десятичной точки. Если аргумент ndigi ts опущен или равен None, функция \n",
    "\n",
    "возвращает ближайшее целое."
   ]
  },
  {
   "cell_type": "markdown",
   "metadata": {},
   "source": [
    "6.4.2. Создание и вызов функций"
   ]
  },
  {
   "cell_type": "markdown",
   "metadata": {},
   "source": [
    "Как и у всего остального, у создания (определения) функций есть собственный син\n",
    "таксис. Он весьма прост:\n",
    "\n",
    "def имя_функции ( ) :\n",
    "    \n",
    "    тело_функции"
   ]
  },
  {
   "cell_type": "markdown",
   "metadata": {},
   "source": [
    "Когда мы пишем оператор def, интерпретатор Python понимает, что мы собираемся\n",
    "\n",
    "определить функцию. Совершенно очевидно, что «def» - это сокращение от англ.\n",
    "\n",
    "define (определять). Теперь мы должны дать нашей функции уникальное имя. По\n",
    "\n",
    "сле слова def следует имя функции, затем пара круглых скобок ( ) и двоеточие ( :).\n",
    "\n",
    "В следующей строке идет тело функции. Оно начинается с отступа, который сооб\n",
    "\n",
    "щает Python, что этот блок кода является телом функции. Тело функции - это не\n",
    "\n",
    "что иное, как код, который функция выполняет"
   ]
  },
  {
   "cell_type": "markdown",
   "metadata": {},
   "source": [
    "Имя, которое мы даем нашей функции, должно быть уникальным, как и перемен\n",
    "\n",
    "ные. М ы можем назвать нашу функцию как угодно, но необходимо при этом\n",
    "\n",
    "соблюдать правила языка Python. Кроме того, функцию следует наделять таким\n",
    "\n",
    "именем, которое связано с ее назначением, т. е. имеет смысл. Это поможет другим\n",
    "\n",
    "программистам, читающим ваш код, легко понять, для чего она предназначена.\n",
    "\n",
    "Давайте определим простую функцию, чтобы быстрее освоить новую концепцию.\n",
    "\n",
    "In [ 1 ] : def greeting ( ) :\n",
    "\n",
    "print ( \"Good Morning\")"
   ]
  },
  {
   "cell_type": "markdown",
   "metadata": {},
   "source": [
    "def greeting(): \n",
    "    \n",
    "    print(\"Good Morning\")\n",
    "\n",
    "greeting()"
   ]
  },
  {
   "cell_type": "markdown",
   "metadata": {},
   "source": [
    "def Lamonade(price)-> None: \n",
    "    \n",
    "    if (price == 5):\n",
    "        \n",
    "        print()\n",
    "\n",
    "Переменная price, которая указана в круглых скобках в определении функции,\n",
    "\n",
    "называется параметром функции."
   ]
  },
  {
   "cell_type": "markdown",
   "metadata": {},
   "source": [
    "def lemonade_stall(price: int) -> None:\n",
    "    \n",
    "    \"\"\"Проверяет цену и выводит ингредиенты напитков в зависимости от стоимости.\"\"\"\n",
    "    \n",
    "    if price == 5:\n",
    "        print(\"Лимонад сделан из:\")\n",
    "       \n",
    "        print(\"Лимонный сок\")\n",
    "        \n",
    "        print(\"Вода\")\n",
    "        \n",
    "        print(\"Соль\")\n",
    "        \n",
    "        print(\"Сахар\")\n",
    "\n",
    "        print(\"\\nSprite сделан из:\")\n",
    "        \n",
    "        print(\"Лимонный сок\")\n",
    "        \n",
    "        print(\"Содовая\")\n",
    "        \n",
    "        print(\"Сахар\")\n",
    "        \n",
    "        print(\"Секретный ингредиент\")\n",
    "    else:\n",
    "        \n",
    "        print(\"Пожалуйста, заплатите нужную сумму.\")\n",
    "\n",
    "lemonade_stall()\n",
    "\n",
    "TypeError : Lemonade Stall ( ) missing 1 required positional argument : ' price '\n"
   ]
  },
  {
   "cell_type": "markdown",
   "metadata": {},
   "source": [
    "Аргумент - это значение, которое мы присваиваем параметру при вызове функ\n",
    "ции. Вызываемая нами функция запуталась, т. к. у функции есть параметр, но мы\n",
    "не задали для него значение при вызове функции."
   ]
  },
  {
   "cell_type": "code",
   "execution_count": null,
   "metadata": {},
   "outputs": [],
   "source": [
    "def lemonade_stall(price: int) -> None:\n",
    "    \"\"\"Проверяет цену.\n",
    "\n",
    "    Выводит:.\n",
    "    Ингредиенты напитков в зависимости от стоимости.\n",
    "\n",
    "    \"\"\"\n",
    "    if price == 5:\n",
    "        print(\"Лимонад сделан из:\")\n",
    "        print(\"Лимонный сок\")\n",
    "        print(\"Вода\")\n",
    "        print(\"Соль\")\n",
    "        print(\"Сахар\")\n",
    "\n",
    "        print(\"\\nSprite сделан из:\")\n",
    "        print(\"Лимонный сок\")\n",
    "        print(\"Содовая\")\n",
    "        print(\"Сахар\")\n",
    "        print(\"Секретный ингредиент\")\n",
    "    else:\n",
    "        print(\"Пожалуйста, заплатите нужную сумму.\")\n",
    "\n",
    "\n",
    "lemonade_stall(5)"
   ]
  },
  {
   "cell_type": "markdown",
   "metadata": {},
   "source": [
    "Параметр - это переменная, указанная в скобках в определении функции\n",
    "\n",
    "А аргумент - это значение, которое передается в функцию при ее вызове:"
   ]
  },
  {
   "cell_type": "markdown",
   "metadata": {},
   "source": [
    "6.4.3.3. Количество аргументов\n",
    "Когда вы вызываете функцию, ей нужно передать правильное количество аргумен\n",
    "тов. То есть если у функции определены 2 параметра, вы должны передать ей\n",
    "2 аргумента, не больше и не меньше."
   ]
  },
  {
   "cell_type": "code",
   "execution_count": 12,
   "metadata": {},
   "outputs": [
    {
     "name": "stdout",
     "output_type": "stream",
     "text": [
      "oleg Petr\n"
     ]
    }
   ],
   "source": [
    "def my_name(first_name: str, last_name: str) -> None:\n",
    "    \"\"\"\n",
    "    Функция выводит полное имя.\n",
    "\n",
    "    :param first_name: Имя.\n",
    "    :param last_name: Фамилия.\n",
    "    \"\"\"\n",
    "    print(f\"Ваше имя: {first_name} {last_name}\")\n",
    "\n",
    "\n",
    "# Вызов функции\n",
    "my_name(\"Oleg\", \"Nefedov\")"
   ]
  },
  {
   "cell_type": "code",
   "execution_count": null,
   "metadata": {},
   "outputs": [],
   "source": [
    "def fib(max_value: int) -> None:\n",
    "    \"\"\"Выводит ряд Фибоначчи до числа max_value.\"\"\"\n",
    "    first, second = 0, 1\n",
    "    while first < max_value:\n",
    "        # вывод ряда Фибоначчи до max_value\n",
    "        print(first, end=\" \")\n",
    "        first, second = second, first + second\n",
    "    print()  # добавляет перевод строки в конце\n",
    "\n",
    "\n",
    "# Вызовем функцию, которую мы только что определили\n",
    "fib(100)"
   ]
  },
  {
   "cell_type": "markdown",
   "metadata": {},
   "source": [
    "Возвращаемое значение - это не то значение, которое выводится на экран. По\n",
    "скольку определение функции не содержит оператора return, функция возвращает\n",
    "значение None. Вывод на экран значения None обычно игнорируется интерпретато\n",
    "ром, если это единственное выводимое значение. Это легко продемонстрировать\n",
    "С ПОМОЩЬЮ функции print () ."
   ]
  },
  {
   "cell_type": "markdown",
   "metadata": {},
   "source": [
    "Оператор return возвращает значение из функции. Если после оператора return\n",
    "ничего не указать, возвращается None. Если этот оператор отсутствует в конце\n",
    "функции, тоже возвращается None."
   ]
  },
  {
   "cell_type": "markdown",
   "metadata": {},
   "source": [
    "В выражении result . append (a) вызывается метод списка result. Метод - это\n",
    "функция, которая «принадлежит» объекту и определяется типом объекта. Раз\n",
    "ные типы объектов имеют разные методы. Метод append ( ) в нашем примере\n",
    "определен для списков и добавляет новый элемент в конец списка. Это эквива\n",
    "лентно выражению result = result + [ а ] , но более эффективно."
   ]
  },
  {
   "cell_type": "markdown",
   "metadata": {},
   "source": [
    "Метод — это функция, связанная с объектом. В Python тип объекта определяет, какие методы доступны для использования"
   ]
  },
  {
   "cell_type": "markdown",
   "metadata": {},
   "source": [
    "В Python существует четыре основных способа передачи аргументов в функцию, и их можно комбинировать. Эти варианты позволяют передавать аргументы гибким образом и обеспечивают возможность работы с разным количеством и типами аргументов."
   ]
  },
  {
   "cell_type": "markdown",
   "metadata": {},
   "source": [
    "1. Позиционные аргументы (Positional arguments)\n",
    "\n",
    "Аргументы передаются в функцию в порядке их объявления. Эти аргументы обязательны, и порядок имеет значение"
   ]
  },
  {
   "cell_type": "code",
   "execution_count": null,
   "metadata": {},
   "outputs": [],
   "source": [
    "def greet(name: str, age: int) -> None:\n",
    "    \"\"\"Выводит приветствие с именем и возрастом.\n",
    "\n",
    "    :param name: Имя человека.\n",
    "    :param age: Возраст человека.\n",
    "    \"\"\"\n",
    "    print(f\"Привет, {name}. Тебе {age} лет.\")\n",
    "\n",
    "\n",
    "# Вызов функции с позиционными аргументами\n",
    "greet(\"Олег\", 30)"
   ]
  },
  {
   "cell_type": "markdown",
   "metadata": {},
   "source": [
    "2. Именованные аргументы (Keyword arguments)\n",
    "\n",
    "Аргументы передаются по имени. В этом случае порядок не имеет значения, так как аргументы явно указаны."
   ]
  },
  {
   "cell_type": "markdown",
   "metadata": {},
   "source": [
    "def greet(name, age):\n",
    "    \n",
    "    print(f\"Привет, {name}. Тебе {age} лет.\")\n",
    "\n",
    "greet(name=\"Олег\", age=30)  # Именованные аргументы\n",
    "\n",
    "greet(age=30, name=\"Олег\")  # Порядок не важен\n"
   ]
  },
  {
   "cell_type": "markdown",
   "metadata": {},
   "source": [
    "3. Произвольное количество позиционных аргументов (*args)\n",
    "\n",
    "С помощью *args можно передавать функции переменное количество позиционных аргументов. Все переданные аргументы собираются в кортеж."
   ]
  },
  {
   "cell_type": "code",
   "execution_count": 2,
   "metadata": {},
   "outputs": [
    {
     "name": "stdout",
     "output_type": "stream",
     "text": [
      "1\n",
      "2\n",
      "3\n",
      "4\n",
      "5\n"
     ]
    },
    {
     "data": {
      "text/plain": [
       "15"
      ]
     },
     "execution_count": 2,
     "metadata": {},
     "output_type": "execute_result"
    }
   ],
   "source": [
    "def print_numbers(*args: int) -> int:\n",
    "    \"\"\"Выводит заданные числа.\n",
    "\n",
    "    :param args: Произвольное количество чисел.\n",
    "    \"\"\"\n",
    "    for number in args:\n",
    "        print(number)\n",
    "    return sum(args)\n",
    "\n",
    "\n",
    "# Вызов функции с передачей произвольного количества аргументов\n",
    "print_numbers(1, 2, 3, 4, 5)"
   ]
  },
  {
   "cell_type": "markdown",
   "metadata": {},
   "source": [
    "4. Произвольное количество именованных аргументов (**kwargs)\n",
    "\n",
    "С помощью **kwargs можно передавать функции произвольное количество именованных аргументов. Все переданные аргументы собираются в словарь."
   ]
  },
  {
   "cell_type": "code",
   "execution_count": 4,
   "metadata": {},
   "outputs": [
    {
     "name": "stdout",
     "output_type": "stream",
     "text": [
      "user_name: Oleg\n",
      "user_age: 30\n",
      "user_city: Moscow\n"
     ]
    }
   ],
   "source": [
    "def print_info_data(**user_details: str) -> None:\n",
    "    \"\"\"Print information about the provided keyword arguments.\"\"\"\n",
    "    for key, value in user_details.items():\n",
    "        print(f\"{key}: {value}\")\n",
    "\n",
    "\n",
    "# Calling the function with keyword arguments\n",
    "print_info_data(\n",
    "    user_name=\"Oleg\", user_age=\"30\", user_city=\"Moscow\"\n",
    ")  # Passing keyword arguments"
   ]
  },
  {
   "cell_type": "markdown",
   "metadata": {},
   "source": [
    "Комбинирование аргументов\n",
    "\n",
    "Вы можете комбинировать различные виды аргументов в одной функции. При этом следует соблюдать порядок: сначала идут позиционные аргументы, затем *args, затем именованные аргументы, и только потом **kwargs."
   ]
  },
  {
   "cell_type": "code",
   "execution_count": null,
   "metadata": {},
   "outputs": [
    {
     "name": "stdout",
     "output_type": "stream",
     "text": [
      "user_name_name: Oleg\n",
      "user_full_age: 30\n",
      "user_city_live: Moscow\n",
      "Hello!\n",
      "Positional arguments (args):\n",
      "Oleg\n",
      "Ivan\n",
      "Keyword arguments (kwargs):\n",
      "age: 30\n",
      "city: Moscow\n"
     ]
    }
   ],
   "source": [
    "def full_greet(greeting: str, *args: str, **kwargs: str) -> None:\n",
    "    \"\"\"Print a greeting followed by positional and keyword arguments.\"\"\"\n",
    "    print(greeting)\n",
    "\n",
    "    print(\"Positional arguments (args):\")\n",
    "    for arg in args:\n",
    "        print(arg)\n",
    "\n",
    "    print(\"Keyword arguments (kwargs):\")\n",
    "    for key, value in kwargs.items():\n",
    "        print(f\"{key}: {value}\")\n",
    "\n",
    "\n",
    "def print_info(**user_details: str) -> None:\n",
    "    \"\"\"Print information about the provided keyword arguments.\"\"\"\n",
    "    for key, value in user_details.items():\n",
    "        print(f\"{key}: {value}\")\n",
    "\n",
    "\n",
    "# Now, we can call the functions correctly\n",
    "print_info(user_name_name=\"Oleg\", user_full_age=\"30\", user_city_live=\"Moscow\")\n",
    "\n",
    "\n",
    "full_greet(\"Hello!\", \"Oleg\", \"Ivan\", age=str(30), city=\"Moscow\")"
   ]
  },
  {
   "cell_type": "markdown",
   "metadata": {},
   "source": [
    "6.5.3. Именованные аргументы"
   ]
  },
  {
   "cell_type": "code",
   "execution_count": null,
   "metadata": {},
   "outputs": [
    {
     "name": "stdout",
     "output_type": "stream",
     "text": [
      "- Это попугай не comes_to_life Even if you skip it 1000 volt through it\n",
      "-What plumage! Norwegian Blue\n",
      "He dead !\n",
      "- Это попугай не comes_to_life Even if you skip it 1000 volt through it\n",
      "-What plumage! Norwegian Blue\n",
      "He dead !\n",
      "- Это попугай не It will fly Even if you skip it 1000000 volt through it\n",
      "-What plumage! Norwegian Blue\n",
      "He dead !\n",
      "- Это попугай не It will fly Even if you skip it 1000000 volt through it\n",
      "-What plumage! Norwegian Blue\n",
      "He dead !\n",
      "- Это попугай не will jump Even if you skip it million volt through it\n",
      "-What plumage! Norwegian Blue\n",
      "He went to the forefathers !\n",
      "- Это попугай не comes_to_life Even if you skip it a thousand volt through it\n",
      "-What plumage! Norwegian Blue\n",
      "He flying with angels !\n"
     ]
    }
   ],
   "source": [
    "def parrot(\n",
    "    volt: int | float,\n",
    "    state: str = \"dead\",\n",
    "    act: str = \"comes_to_life\",\n",
    "    type_color: str = \"Norwegian Blue\",\n",
    ") -> None:\n",
    "    \"\"\"\n",
    "    Функция выводит информацию о попугае в.\n",
    "\n",
    "    зависимости от состояния и напряжения.\n",
    "\n",
    "    :param volt: Напряжение (обязательный параметр).\n",
    "    :param state: Состояние попугая (по умолчанию 'dead').\n",
    "    :param act: Действие попугая (по умолчанию 'comes_to_life').\n",
    "    :param type_color: Тип попугая (по умолчанию 'Norwegian Blue')\n",
    "    \"\"\"\n",
    "    print(\"- Это попугай не\", act, end=\" \")\n",
    "    print(\"Even if you skip it\", volt, \"volt through it\")\n",
    "    print(\"-What plumage!\", type_color)\n",
    "    print(\"He\", state, \"!\")\n",
    "\n",
    "\n",
    "# 1. Позиционный аргумент\n",
    "parrot(1000)\n",
    "\n",
    "# 2. Именованный аргумент\n",
    "parrot(volt=1000)\n",
    "\n",
    "# 3. Два именованных аргумента\n",
    "parrot(volt=1000000, act=\"It will fly\")\n",
    "\n",
    "# 4. Два именованных аргумента в другом порядке\n",
    "parrot(act=\"It will fly\", volt=1000000)\n",
    "\n",
    "# 5. Три позиционных аргумента (обратите внимание,\n",
    "# что функции паррот не хватает\n",
    "# кода, чтобы обработать больше трех параметров.\n",
    "# Предположим, что паррот\n",
    "# ожидает до 4-х параметров)\n",
    "parrot(10000, \"went to the forefathers\", \"will jump\")\n",
    "\n",
    "# 6. Один позиционный и один именованный аргумент\n",
    "parrot(100000, state=\"flying with angels\")\n",
    "\n",
    "# 7. Ошибка: отсутствует обязательный аргумент `volt`\n",
    "# parrot()  # это вызовет ошибку TypeError,\n",
    "# потому что `volt` обязательный\n",
    "\n",
    "# 8. Ошибка: неименованный аргумент после именованного\n",
    "# parrot(volt=5.0, \"He died\")  # Это вызовет ошибку синтаксиса.\n",
    "# Нельзя передавать неименованный аргумент после именованного.\n",
    "\n",
    "# 9. Ошибка: передача одного и того же аргумента дважды\n",
    "# parrot(110, volt=220)\n",
    "# # Это вызовет ошибку, потому что аргумент `volt` передается дважды\n",
    "\n",
    "# 10. Ошибка: неизвестный именованный аргумент\n",
    "# parrot(act=\"Jgon KLiz\")  # Это вызовет ошибку,\n",
    "# если `act` не является ожидаемым аргументом.\n",
    "# Это не ошибка синтаксиса, но логическая ошибка,\n",
    "# если аргумент `act` не предусмотрен."
   ]
  },
  {
   "cell_type": "code",
   "execution_count": null,
   "metadata": {},
   "outputs": [
    {
     "name": "stdout",
     "output_type": "stream",
     "text": [
      "args: ('Monday', 'Tuesday', 'Wednesday')\n",
      "kwargs: {'fourth': 'Thursday', 'fifth': 'Friday', 'weekend1': 'Saturday', 'weekend2': 'Sunday', 'year': 2024}\n"
     ]
    }
   ],
   "source": [
    "def try_function(*args: str, **kwargs: str | int) -> None:\n",
    "    \"\"\"\n",
    "    Функция принимает произвольное количество позиционных.\n",
    "\n",
    "    именованных аргументов.\n",
    "\n",
    "    :param args: Позиционные аргументы.\n",
    "    которых является строкой.\n",
    "    :param kwargs: Именованные аргументы, где ключи - строки.\n",
    "      значения могут быть строками или числами.\n",
    "    \"\"\"\n",
    "    print(\"args:\", args)  # args будет кортежем строк\n",
    "    print(\"kwargs:\", kwargs)\n",
    "\n",
    "\n",
    "# kwargs будет словарем, где ключи - строки, а значения - строки или числа\n",
    "\n",
    "\n",
    "# Вызов функции с правильным использованием *args и **kwargs\n",
    "try_function(\n",
    "    \"Monday\",\n",
    "    \"Tuesday\",\n",
    "    \"Wednesday\",  # Позиционные аргументы (строки)\n",
    "    fourth=\"Thursday\",\n",
    "    fifth=\"Friday\",\n",
    "    weekend1=\"Saturday\",\n",
    "    weekend2=\"Sunday\",\n",
    "    year=2024,\n",
    ")  # Именованные аргументы (ключи - строки, значения - строки или числа)"
   ]
  },
  {
   "cell_type": "markdown",
   "metadata": {},
   "source": [
    "6.6. Генераторы "
   ]
  },
  {
   "cell_type": "markdown",
   "metadata": {},
   "source": [
    "Генератор - это функция, возвращающая итератор. То есть эти функции генерируют объект, который можно перебирать в цикле.\n",
    "Генератор - это особый класс функций. Вместо того, чтобы возвращать одно значение, функция-генератор возвращает последовательность значений ( объектитератор ). Слово return в таких функциях заменяется на yield. Рассмотрим это подробнее. "
   ]
  },
  {
   "cell_type": "code",
   "execution_count": null,
   "metadata": {},
   "outputs": [],
   "source": [
    "def inclusive_range(*args: int) -> Iterator[int]:\n",
    "    \"\"\"\n",
    "    Функция, которая генерирует последовательность.\n",
    "\n",
    "    чисел от start до stop с шагом step.\n",
    "\n",
    "\n",
    "    :param args: Позиционные аргументы.\n",
    "     - 1 аргумент: stop (до этого значения, не включая).\n",
    "     - 2 аргумента: start и stop.\n",
    "     - 3 аргумента: start, stop, и step.\n",
    "    :return: Итератор, генерирующий числа от start до stop с шагом step.\n",
    "    \"\"\"\n",
    "    numargs = len(args)\n",
    "\n",
    "    # начальные значения\n",
    "    start = 0\n",
    "    step = 1\n",
    "\n",
    "    # проверка параметров\n",
    "    if numargs < 1:\n",
    "        raise TypeError(f\"Expected at least one argument, got {numargs}\")\n",
    "    if numargs == 1:\n",
    "        stop = args[0]\n",
    "    if numargs == 2:\n",
    "        start, stop = args\n",
    "    if numargs == 3:\n",
    "        start, stop, step = args\n",
    "    else:\n",
    "        raise TypeError(f\"Expected at most 3 arguments, got {numargs}\")\n",
    "\n",
    "    # генератор\n",
    "    i = start\n",
    "    while i <= stop:\n",
    "        yield i\n",
    "        i += step"
   ]
  },
  {
   "cell_type": "markdown",
   "metadata": {},
   "source": [
    "В Python items() — это метод, который используется для получения представления элементов словаря. Он возвращает представление, состоящее из пар ключ-значение, которые могут быть перебраны в цикле"
   ]
  }
 ],
 "metadata": {
  "kernelspec": {
   "display_name": "base",
   "language": "python",
   "name": "python3"
  },
  "language_info": {
   "codemirror_mode": {
    "name": "ipython",
    "version": 3
   },
   "file_extension": ".py",
   "mimetype": "text/x-python",
   "name": "python",
   "nbconvert_exporter": "python",
   "pygments_lexer": "ipython3",
   "version": "3.12.2"
  }
 },
 "nbformat": 4,
 "nbformat_minor": 2
}
