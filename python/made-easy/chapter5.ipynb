{
 "cells": [
  {
   "cell_type": "code",
   "execution_count": 2,
   "metadata": {},
   "outputs": [],
   "source": [
    "\"\"\"from typing import List: для работы с типами списков.\"\"\"\n",
    "\n",
    "from typing import List"
   ]
  },
  {
   "cell_type": "markdown",
   "metadata": {},
   "source": [
    "Операторы управления потоком"
   ]
  },
  {
   "cell_type": "markdown",
   "metadata": {},
   "source": [
    "Оператор if\n",
    "\n",
    "Оператор for (цикл)\n",
    "\n",
    "Оператор while (цикл)\n",
    "\n",
    "Операторы break и continue\n",
    "\n",
    "Блок else в циклах\n",
    "\n",
    "Оператор раss\n",
    "\n",
    "Операторы управления потоком"
   ]
  },
  {
   "cell_type": "markdown",
   "metadata": {},
   "source": [
    "5.2. Операторы if\n",
    "\n",
    "\n",
    "Оператор if используется для проверки условия и, если условие истинно, выполняется связанный с оператором блок кода (называемый блоком if)"
   ]
  },
  {
   "cell_type": "markdown",
   "metadata": {},
   "source": [
    "if условие:\n",
    "    # блок кода, который выполнится, если условие истинно\n",
    "elif другое_условие:\n",
    "    # блок кода, который выполнится, если первое условие ложное и другое условие истинно\n",
    "else:\n",
    "    # блок кода, который выполнится, если все условия ложные"
   ]
  },
  {
   "cell_type": "code",
   "execution_count": null,
   "metadata": {},
   "outputs": [],
   "source": [
    "x_one = 4\n",
    "if x_one > 0:\n",
    "    if x_one % 2 == 0:\n",
    "        print(\"x_one положительное четное число\")\n",
    "    else:\n",
    "        print(\"x_one положительное нечетное число\")\n",
    "else:\n",
    "    print(\"x_one отрицательное число\")"
   ]
  },
  {
   "cell_type": "code",
   "execution_count": null,
   "metadata": {},
   "outputs": [],
   "source": [
    "x_two = 8\n",
    "\n",
    "# Упрощенное сравнение\n",
    "if 5 < x_two < 10:\n",
    "    print(\"x_two находится между 5 и 10\")\n",
    "    # Оба условия проверяются одновременно\n",
    "\n",
    "if x_two < 3 or x_two > 7:\n",
    "    print(\n",
    "        \"x_two меньше 3 или больше 7\"\n",
    "    )  # Достаточно, чтобы одно из условий было истинным"
   ]
  },
  {
   "cell_type": "markdown",
   "metadata": {},
   "source": [
    "x_three = 10\n",
    "result = \"больше 5\" if x_three > 5 else \"меньше или равен 5\"\n",
    "print(result)  # Выведет: больше 5"
   ]
  },
  {
   "cell_type": "markdown",
   "metadata": {},
   "source": [
    "Синтаксис: ключевое слово if, условие и \n",
    "двоеточие. Блок кода оператора if начинается со следующей строки и должен иметь отступ. \n",
    "\n",
    "Отступ сообщает Python\n",
    "о том, что этот блок кода предназначен для оператора if.\n",
    "\n",
    "if условие:\n",
    "    \n",
    "    код блока if\n",
    "\n",
    "конец блока if"
   ]
  },
  {
   "cell_type": "markdown",
   "metadata": {},
   "source": [
    "Реальная ситуация: перед праздником в торговом центре объявили распродажу.\n",
    "При покупке электронных товаров вам предлагается скидка 20% при условии, что\n",
    "сумма покупки превышает 50 ООО. Клиент покупает некоторое количество товаров,\n",
    "суммарная стоимость купленных товаров вводится с клавиатуры. Нужно написать\n",
    "программу для вычисления суммы, подлежащей оплате"
   ]
  },
  {
   "cell_type": "markdown",
   "metadata": {},
   "source": [
    "#### total_amount= int (input(\"Oбщaя сумма nокуnаемых товаров : \"))\n",
    "#### discount = 0\n",
    "#### if total_amount > 50000 :\n",
    "####     discount = (total_amount * 20) /100\n",
    "#### bill_amount = total_amount - discount\n",
    "#### print(f\"Итоговая сумма к оплате : {bill_amount} , скидка составила : {discount} \")"
   ]
  },
  {
   "cell_type": "markdown",
   "metadata": {},
   "source": [
    "5.2.2. Оператор if-else\n",
    "В большинстве случаев бывает нужно что-то сделать, если условие if не выполни\n",
    "лось, т. е. оказалось ложно. Для этого у нас есть оператор if-else "
   ]
  },
  {
   "cell_type": "markdown",
   "metadata": {},
   "source": [
    "Как и ранее, оператор if проверяет условие: если условие истинно, запускается\n",
    "блок if, в противном случае выполняется другой блок операторов (называемый\n",
    "блоком else). При этом блок else не является обязательным.\n",
    "\n",
    "if условие :\n",
    "    \n",
    "    код блока if\n",
    "\n",
    "else :\n",
    "    \n",
    "    код блока else"
   ]
  },
  {
   "cell_type": "code",
   "execution_count": null,
   "metadata": {},
   "outputs": [],
   "source": [
    "nurn = int(input(\"Enter a number: \"))\n",
    "if nurn > 11:\n",
    "    print(f\"{nurn} i s greater than \")\n",
    "else:\n",
    "    print(f\"{nurn} is smaller than 11\")"
   ]
  },
  {
   "cell_type": "markdown",
   "metadata": {},
   "source": [
    "Реальная ситуация: перед праздником в торговом центре объявили распродажу.\n",
    "При покупке одежды и модных аксессуаров вам предлагается скидка 20% при\n",
    "условии, что сумма покупки превышает 25 ООО, в противном случае скидка состав\n",
    "ляет 5%. Клиент покупает некоторое количество товаров, суммарная стоимость\n",
    "купленных товаров вводится с клавиатуры. Напишите программу для вычисления\n",
    "суммы, подлежащей оплате."
   ]
  },
  {
   "cell_type": "markdown",
   "metadata": {},
   "source": [
    "##### full_suma = int(input(\"full suma of clothes and accessories purchased \"))# общая сумма покупаемой одежды и аксессуаров\n",
    "\n",
    "##### if full_suma > 25000:\n",
    "#####     discount_one = (full_suma * 20)/100\n",
    "#####     bill_amount_one = full_suma - discount_one\n",
    "#####     print(4\"Итоговая сумма {bill_amount_one}, скидка составила {discount_one}\")\n",
    "     pass\n",
    "#####\n",
    "###### elif full_suma < 25000:\n",
    "######     discount_two = (full_suma *5 )/100\n",
    "######     bill_amount_two = full_suma - discount_two\n",
    "######     print(f\"Итоговая сумма {bill_amount_two}, скидка составила {discount_two}\")"
   ]
  },
  {
   "cell_type": "markdown",
   "metadata": {},
   "source": [
    "5.2.3. Оператор if-elif-else"
   ]
  },
  {
   "cell_type": "code",
   "execution_count": null,
   "metadata": {},
   "outputs": [],
   "source": [
    "x_entr = int(input(\"Please enter an integer :\"))\n",
    "if x_entr < 0:\n",
    "    print(\"Negative NumЬer\")\n",
    "elif x_entr == 0:\n",
    "    print(\"Zero\")\n",
    "elif x_entr == 1:\n",
    "    print(\"Single\")\n",
    "else:\n",
    "    print(\"More\")"
   ]
  },
  {
   "cell_type": "markdown",
   "metadata": {},
   "source": [
    "Блоков elif может быть сколько угодно (или их может не быть вовсе), а блок else\n",
    "необязателен. Ключевое слово elif является сокращением от else if и позволяет\n",
    "избежать кода с огромными отступами."
   ]
  },
  {
   "cell_type": "markdown",
   "metadata": {},
   "source": [
    "Реальная ситуация: в компании работают люди со всей страны. Отдел кадров\n",
    "классифицирует города по количеству населения на 3 категории: A, В и С. Размер\n",
    "компенсации аренды жилья зависит от класса города по следующим правилам: для\n",
    "города класса A - 30% от базовой заработной платы, для города класса B - 20%\n",
    "от базовой заработной платы, для города класса С - 10% от базовой заработной\n",
    "платы."
   ]
  },
  {
   "cell_type": "markdown",
   "metadata": {},
   "source": [
    "##### name = \"Нилаб\"\n",
    "##### basic_salary = int(input(f\"Зapплaтa сотрудника{name}\"))\n",
    "##### c ity_class = input()\n",
    "##### if city_class == ( \"a\" or \"A\" ):\n",
    "#####     HRA_ONE = (basic_salary * 30) /100\n",
    "##### print (f\"Компенсация за аренду жилья для {name} составит{HRA_ONE}\")\n",
    "##### elif city_class == ( \"b\" or \"В\" ):\n",
    "#####     HRA_TWO = (basic_salary * 20) /100\n",
    "#####     print (f\"Компенсация за аренду жилья для {name} составит{HRA_TWO}\")\n",
    "##### elif city_class == (\"c\" or \"C\" ) :\n",
    "#####     HRA_TREE = (basic_salary * 10) /100\n",
    "#####     print (f\"Компенсация за аренду жилья для {name} составит{HRA_TREE}\")"
   ]
  },
  {
   "cell_type": "markdown",
   "metadata": {},
   "source": [
    "5.3. Оператор цикла for\n",
    "\n",
    "Циклы в программировании используются для многократного выполнения опреде\n",
    "\n",
    "ленного блока кода. Цикл for в Python выполняет итерацию по элементам передан\n",
    "\n",
    "ной последовательности (списка или строки) в том порядке, в котором они в этой\n",
    "\n",
    "последовательности представлены (рис. 5 .5). (Термин «итерация» означает повто\n",
    "\n",
    "рение процесса.)"
   ]
  },
  {
   "cell_type": "markdown",
   "metadata": {},
   "source": [
    "Нельзя не отметить простоту оператора for. Мы указываем переменную, которую\n",
    "хотим использовать (w или i в приведенных примерах), а затем используем опера\n",
    "тор in, чтобы связать переменную с последовательностью, которую мы хотим пере\n",
    "брать (здесь words - это наш список, т. е. последовательность).\n",
    "Обобщенно синтаксис выглядит следующим образом:\n",
    "for переменная in последовательность :\n",
    "код блок for"
   ]
  },
  {
   "cell_type": "code",
   "execution_count": null,
   "metadata": {},
   "outputs": [],
   "source": [
    "words = [\"cat\", \"window\"]\n",
    "for w_i in words:\n",
    "    print(w_i, len(w_i))"
   ]
  },
  {
   "cell_type": "markdown",
   "metadata": {},
   "source": [
    "5.3.1 . Цикл for с блоком e/se\n",
    "В цикле for также может быть необязательный блок else. Блок else выполняется,\n",
    "когда элементы в последовательности, перебираемой циклом for, заканчиваются"
   ]
  },
  {
   "cell_type": "code",
   "execution_count": null,
   "metadata": {},
   "outputs": [],
   "source": [
    "numbers = [1, 2, 3, 4]\n",
    "for iteration in numbers:\n",
    "    print(iteration)\n",
    "\n",
    "print(\"This is end the code\")"
   ]
  },
  {
   "cell_type": "markdown",
   "metadata": {},
   "source": [
    "5.4. Функция range()\n",
    "Если вам необходимо перебрать простую последовательность чисел, поможет\n",
    "встроенная функция range (). Она генерирует арифметическую прогрессию"
   ]
  },
  {
   "cell_type": "code",
   "execution_count": null,
   "metadata": {},
   "outputs": [],
   "source": [
    "# Объявляем список для хранения чисел\n",
    "integer_list: List[int] = []\n",
    "\n",
    "# Используем другую переменную для цикла\n",
    "for value_one in range(5):\n",
    "    integer_list.append(value_one)\n",
    "    # Добавляем текущее число в список\n",
    "\n",
    "print(integer_list)  # Выводим список чисел"
   ]
  },
  {
   "cell_type": "markdown",
   "metadata": {},
   "source": []
  },
  {
   "cell_type": "markdown",
   "metadata": {},
   "source": [
    "При этом последняя точка никогда не является частью сгенерированной последова\n",
    "тельности, например функция range (10) генерирует 10 значений, представляющщ\n",
    "собой допустимые индексы элементов последовательности длиной 10. \n",
    "Диапазон может начинаться с любого числа или иметь произвольный шаг (даже отрицатель\n",
    "ный), если это указать явно в параметрах функции:"
   ]
  },
  {
   "cell_type": "markdown",
   "metadata": {},
   "source": [
    "Для перебора элементов последовательности можно комбинировать функции\n",
    "range () И len () "
   ]
  },
  {
   "cell_type": "markdown",
   "metadata": {},
   "source": [
    "checklist = [\"Mary\", \"had\", \"little\", \"lamb\"]\n",
    "\n",
    "for full_list in range(len(checklist)):\n",
    "    \n",
    "    print(full_list, checklist[full_list])"
   ]
  },
  {
   "cell_type": "code",
   "execution_count": 2,
   "metadata": {},
   "outputs": [
    {
     "name": "stdout",
     "output_type": "stream",
     "text": [
      "0 Mary\n",
      "1 had\n",
      "2 little\n",
      "3 lamb\n"
     ]
    }
   ],
   "source": [
    "checklist = [\"Mary\", \"had\", \"little\", \"lamb\"]\n",
    "for index, item in enumerate(checklist):\n",
    "    print(index, item)"
   ]
  },
  {
   "cell_type": "code",
   "execution_count": 6,
   "metadata": {},
   "outputs": [
    {
     "name": "stdout",
     "output_type": "stream",
     "text": [
      "[0, 1, 2, 3, 4, 5, 6, 7, 8, 9]\n"
     ]
    }
   ],
   "source": [
    "print(list(range(10)))\n",
    "# [0, 1, 2, 3, 4, 5, 6, 7, 8, 9]"
   ]
  },
  {
   "cell_type": "markdown",
   "metadata": {},
   "source": [
    "5.5. Цикл while"
   ]
  },
  {
   "cell_type": "code",
   "execution_count": 7,
   "metadata": {},
   "outputs": [
    {
     "name": "stdout",
     "output_type": "stream",
     "text": [
      "The 55 is sum\n"
     ]
    }
   ],
   "source": [
    "max_value = 10  # Максимальное значение для суммирования\n",
    "summa = 0  # Переменная для хранения суммы\n",
    "val_two = 1  # Начальное значение для суммирования\n",
    "\n",
    "while val_two <= max_value:\n",
    "    summa += val_two  # Суммируем текущее значение\n",
    "    val_two += 1  # Увеличиваем значение на 1\n",
    "\n",
    "print(f\"The sum is {summa}\")  # Выводим сумму"
   ]
  },
  {
   "cell_type": "markdown",
   "metadata": {},
   "source": [
    "5.6. Операторы break и continue\n",
    "\n",
    "5.6. 1 . Оператор break"
   ]
  },
  {
   "cell_type": "markdown",
   "metadata": {},
   "source": [
    "Оператор break прерывает выполнение самого внутреннего цикла for или while.\n",
    "\n",
    "Операторы цикла могут иметь блок else, который выполняется, когда цикл завершается, перебрав все элементы (в случае цикла for) или когда условие становится ложным (в случае цикла while). \n",
    "\n",
    "Обратите внимание, что блок else не выполняется,\n",
    "когда цикл завершается оператором break "
   ]
  },
  {
   "cell_type": "code",
   "execution_count": null,
   "metadata": {},
   "outputs": [],
   "source": [
    "numbers_one = [1, 2, 3, 4]\n",
    "\n",
    "for inter in numbers_one:\n",
    "    print(inter)\n",
    "    break\n",
    "else:\n",
    "    print(\"this is end of the code\")\n",
    "print(\"This line outside the loop\")"
   ]
  },
  {
   "cell_type": "markdown",
   "metadata": {},
   "source": [
    "Вы заметили, что вместо 5 строк вывода, которые ранее печатал тот же цикл без\n",
    "оператора break, теперь выводится только одна строка в цикле? Дело в том, что\n",
    "оператор break остановил цикл for и не перевел его на следующую итерацию и про\n",
    "пустил блок else."
   ]
  },
  {
   "cell_type": "markdown",
   "metadata": {},
   "source": [
    "В качестве примера возьмем цикл, который ищет простые числа:"
   ]
  },
  {
   "cell_type": "code",
   "execution_count": null,
   "metadata": {},
   "outputs": [],
   "source": [
    "for number_two in range(2, 10):\n",
    "    # Цикл для проверки чисел от 2 до 9\n",
    "    for divisor in range(2, number_two):\n",
    "        # Проверяем делители от 2 до текущего числа\n",
    "        if number_two % divisor == 0:\n",
    "            # Если число делится на делитель без остатка\n",
    "            print(\n",
    "                number_two, \"equals\", divisor, \"*\", number_two // divisor\n",
    "            )  # Число не простое\n",
    "            break  # Прерываем цикл, так как число не простое\n",
    "    else:\n",
    "        # Цикл завершён без нахождения делителя, число простое\n",
    "        print(number_two, \"is a prime number\")"
   ]
  },
  {
   "cell_type": "markdown",
   "metadata": {},
   "source": [
    "5.6.2. Оператор continue\n",
    "Оператор continue используется для пропуска части кода внутри цикла в пределах\n",
    "текущей итерации "
   ]
  },
  {
   "cell_type": "code",
   "execution_count": null,
   "metadata": {},
   "outputs": [],
   "source": [
    "for alphabet in \"python\":\n",
    "    if alphabet == \"t\":\n",
    "        continue  # Пропустить итерацию, если символ \"t\"\n",
    "    print(alphabet)\n",
    "\n",
    "print(\"The end\")  # Финальный вывод после завершения цикла"
   ]
  },
  {
   "cell_type": "code",
   "execution_count": 15,
   "metadata": {},
   "outputs": [
    {
     "name": "stdout",
     "output_type": "stream",
     "text": [
      "Found an even number 2\n",
      "Found a number 3\n",
      "Found an even number 4\n",
      "Found a number 5\n",
      "Found an even number 6\n",
      "Found a number 7\n",
      "Found an even number 8\n",
      "Found a number 9\n"
     ]
    }
   ],
   "source": [
    "for num_val in range(2, 10):\n",
    "    if num_val % 2 == 0:  # четное число\n",
    "        print(\"Found an even number\", num_val)\n",
    "        continue\n",
    "    print(\"Found a number\", num_val)"
   ]
  },
  {
   "cell_type": "markdown",
   "metadata": {},
   "source": [
    "5.7. Оператор pass\n",
    "\n",
    "Оператор pass ничего не делает. Его можно использовать, когда\n",
    "\n",
    "в данном месте программы оператор синтаксически требуется, но \n",
    "\n",
    "никаких действий в этом местевыполнять не нужно."
   ]
  },
  {
   "cell_type": "markdown",
   "metadata": {},
   "source": [
    "Обычно он используется для создания минимальных классов:\n",
    "\n",
    "class MyEmptyClass :\n",
    "    \n",
    "    pass"
   ]
  },
  {
   "cell_type": "markdown",
   "metadata": {},
   "source": [
    "Еще его можно использовать в качестве заполнителя для функции или тела условия в момент написания нового кода. Эrо позволяет сначала набросать шаблон кода на\n",
    "более абстрактном уровне. Интерпретатором этот оператор просто игнорируется:"
   ]
  },
  {
   "cell_type": "markdown",
   "metadata": {},
   "source": [
    "def initlog ( *args ):\n",
    "    \n",
    "    pass # не забудьте реализовать это !"
   ]
  },
  {
   "cell_type": "code",
   "execution_count": null,
   "metadata": {},
   "outputs": [],
   "source": [
    "item_value = 105\n",
    "if item_value >= 100:\n",
    "    print(f\"Value of item_value is {item_value}\")"
   ]
  },
  {
   "cell_type": "code",
   "execution_count": null,
   "metadata": {},
   "outputs": [],
   "source": [
    "current_number = 12\n",
    "if current_number == 10:\n",
    "    print(\"current_number is equal to 10\")"
   ]
  },
  {
   "cell_type": "code",
   "execution_count": null,
   "metadata": {},
   "outputs": [],
   "source": [
    "value_a = 90\n",
    "value_b = 103\n",
    "\n",
    "if value_a <= 100:\n",
    "    print(\"Value of value_a is less than 100\")\n",
    "if value_b <= 100:\n",
    "    print(\"Value of value_b is less than 100\")"
   ]
  },
  {
   "cell_type": "markdown",
   "metadata": {},
   "source": [
    " Трейдер хочет, чтобы программа проверяла, получил ли он прибыль или убы\n",
    "ток по сделке. Напишите программу, в которой с клавиатуры вводится цена по\n",
    "купки и продажи, а в ответ программа сообщает, получил ли трейдер прибыль\n",
    "или убыток. Программа также должна рассчитать сумму прибыли или убытка"
   ]
  },
  {
   "cell_type": "code",
   "execution_count": 28,
   "metadata": {},
   "outputs": [
    {
     "name": "stdout",
     "output_type": "stream",
     "text": [
      "Трейдер понес убыток в размере 324000.00 единиц.\n"
     ]
    }
   ],
   "source": [
    "# Запрос цены покупки и продажи у трейдера\n",
    "purchase_price = float(input(\"Введите цену покупки: \"))\n",
    "selling_price = float(input(\"Введите цену продажи: \"))\n",
    "\n",
    "# Расчет прибыли или убытка\n",
    "profit_loss = selling_price - purchase_price\n",
    "\n",
    "# Проверка, есть ли прибыль или убыток\n",
    "if profit_loss > 0:\n",
    "    print(f\"Трейдер получил прибыль в размере {profit_loss:.2f} единиц.\")\n",
    "elif profit_loss < 0:\n",
    "    print(f\"Трейдер понес убыток в размере {abs(profit_loss):.2f} единиц.\")\n",
    "else:\n",
    "    print(\"Трейдер не получил ни прибыли, ни убытка.\")"
   ]
  },
  {
   "cell_type": "markdown",
   "metadata": {},
   "source": [
    "Формат .2f используется в Python для форматирования чисел с плавающей запятой. Он указывает, что число должно быть представлено с двумя знаками после десятичной точки. Давайте разберем это более подробно.\n",
    "\n",
    "\n",
    "\n",
    "value = 123.456789\n",
    "\n",
    "print(f\"Значение: {value:.2f}\")  # Вывод: Значение: 123.46\n",
    "\n",
    "Объяснение:\n",
    "\n",
    "    . — точка, которая указывает на начало дробной части числа.\n",
    "    \n",
    "    2 — количество знаков после десятичной точки, которые вы хотите отобразить.\n",
    "    \n",
    "    f — обозначает, что число будет в формате с плавающей запятой (floating point).\n"
   ]
  },
  {
   "cell_type": "code",
   "execution_count": null,
   "metadata": {},
   "outputs": [],
   "source": [
    "value_f = 123.456789\n",
    "\n",
    "print(f\"Значение: {value_f:.5f}\")  # Вывод: Значение: 123.46"
   ]
  },
  {
   "cell_type": "markdown",
   "metadata": {},
   "source": [
    "Функция abs() в Python используется для вычисления абсолютного значения числа. Абсолютное значение — это значение числа без его знака. Например, абсолютное значение как положительных, так и отрицательных чисел всегда будет неотрицательным.\n",
    "\n",
    "\n",
    "print(abs(-5))  # Вывод: 5\n"
   ]
  },
  {
   "cell_type": "code",
   "execution_count": 31,
   "metadata": {},
   "outputs": [
    {
     "name": "stdout",
     "output_type": "stream",
     "text": [
      "5.0\n"
     ]
    }
   ],
   "source": [
    "complex_number = 3 + 4j\n",
    "print(abs(complex_number))\n",
    "\n",
    "# Вывод: 5.0 (это длина вектора в комплексной плоскости)"
   ]
  },
  {
   "cell_type": "markdown",
   "metadata": {},
   "source": [
    "def calculate_profit_or_loss(purchase: float, selling: float) -> None:\n",
    "    \"\"\"\n",
    "    Функция для вычисления прибыли или убытка от сделки.\n",
    "\n",
    "    :param purchase: цена покупки.\n",
    "    :param selling: цена продажи.\n",
    "    \"\"\"\n",
    "    profit_or_loss = selling - purchase\n",
    "\n",
    "    if profit_or_loss > 0:\n",
    "        print(f\"Трейдер получил прибыль в размере {profit_or_loss:.2f} единиц.\")\n",
    "    elif profit_or_loss < 0:\n",
    "        print(f\"Трейдер понес убыток в размере {abs(profit_or_loss):.2f} единиц.\")\n",
    "    else:\n",
    "        print(\"Трейдер не получил ни прибыли, ни убытка.\")\n",
    "\n",
    "\n",
    "# Ввод данных от пользователя\n",
    "try:\n",
    "    purchase_input = float(input(\"Введите цену покупки: \"))\n",
    "    selling_input = float(input(\"Введите цену продажи: \"))\n",
    "    calculate_profit_or_loss(purchase_input, selling_input)\n",
    "except ValueError:\n",
    "    print(\"Пожалуйста, введите корректные числовые значения.\")"
   ]
  },
  {
   "cell_type": "code",
   "execution_count": null,
   "metadata": {},
   "outputs": [],
   "source": [
    "def is_leap(year: int) -> bool:\n",
    "    \"\"\"Проверяет, является ли год високосным.\"\"\"\n",
    "    return (year % 4 == 0 and year % 100 != 0) or (year % 400 == 0)\n",
    "\n",
    "\n",
    "try:\n",
    "    # Запрашиваем год у пользователя\n",
    "    year_input = int(input(\"Введите год: \"))\n",
    "\n",
    "    # Проверяем, является ли год високосным\n",
    "    if is_leap(year_input):\n",
    "        print(f\"Год {year_input} является високосным.\")\n",
    "    else:\n",
    "        print(f\"Год {year_input} не является високосным.\")\n",
    "except ValueError:\n",
    "    print(\"Пожалуйста, введите корректное целое число.\")"
   ]
  },
  {
   "cell_type": "markdown",
   "metadata": {},
   "source": [
    "Функция is_leap_year:\n",
    "\n",
    "    Принимает целое число year и возвращает True, если год является високосным, и False в противном случае.\n",
    "    Високосный год — это год, который делится на 4, но не делится на 100, за исключением годов, которые делятся на 400."
   ]
  },
  {
   "cell_type": "markdown",
   "metadata": {},
   "source": [
    "Трое сотрудников, Самир, Правин и Мохит, вводят свой опыт работы с клавиа\n",
    "туры. Напишите программу, которая определяет наиболее и наименее опытного\n",
    "из них"
   ]
  },
  {
   "cell_type": "markdown",
   "metadata": {},
   "source": [
    "def main() -> None:\n",
    "    \"\"\"Основная функция для определения.\n",
    "\n",
    "    наиболее и наименее опытного сотрудника.\n",
    "\n",
    "    \"\"\"\n",
    "    # Запрашиваем опыт работы у каждого сотрудника\n",
    "    samir_experience = float(input(\"Введите опыт работы Самир в годах: \"))\n",
    "    pravin_experience = float(input(\"Введите опыт работы Правин в годах: \"))\n",
    "    mohit_experience = float(input(\"Введите опыт работы Мохит в годах: \"))\n",
    "\n",
    "    # Создаем словарь для хранения имен сотрудников и их опыта\n",
    "    experience_dict = {\n",
    "        \"Самир\": samir_experience,\n",
    "        \"Правин\": pravin_experience,\n",
    "        \"Мохит\": mohit_experience,\n",
    "    }\n",
    "\n",
    "    # Находим наиболее и наименее опытного сотрудника с помощью лямбда-функции\n",
    "    most_experienced = max(experience_dict, key=lambda name: experience_dict[name])\n",
    "    least_experienced = min(experience_dict, key=lambda name: experience_dict[name])\n",
    "\n",
    "    # Вывод результатов\n",
    "    print(\n",
    "        f\"Наиболее опытный сотрудник: {most_experienced} \"\n",
    "        f\"с опытом {experience_dict[most_experienced]} лет.\"\n",
    "    )\n",
    "    print(\n",
    "        f\"Наименее опытный сотрудник: {least_experienced} \"\n",
    "        f\"с опытом {experience_dict[least_experienced]} лет.\"\n",
    "    )\n",
    "\n",
    "\n",
    "if __name__ == \"__main__\":\n",
    "    main()"
   ]
  },
  {
   "cell_type": "markdown",
   "metadata": {},
   "source": [
    "Выражение key=lambda name: experience_dict[name] используется в функциях max() и min() для определения правила сравнения значений в словаре. Это нужно для того, чтобы функции знали, по какому критерию выбирать максимальное или минимальное значение. Давайте разберем это подробнее."
   ]
  },
  {
   "cell_type": "markdown",
   "metadata": {},
   "source": [
    "\n",
    "Лямда-функции в Python — это анонимные функции, которые могут быть созданы \"на лету\". Они используются, когда нужно создать простую функцию без необходимости явно определять её с помощью def\n",
    "\n",
    "experience_dict[name]:\n",
    "\n",
    "    Это возвращаемое значение лямбда-функции. Для каждого ключа (имени сотрудника) она возвращает значение, соответствующее этому ключу, то есть количество лет опыта данного сотрудника. Внутри словаря experience_dict ключи — это имена сотрудников, а значения — их опыт."
   ]
  },
  {
   "cell_type": "markdown",
   "metadata": {},
   "source": [
    "most_experienced = max(experience_dict, key=experience_dict.get)\n",
    "least_experienced = min(experience_dict, key=experience_dict.get)\n",
    "\n",
    "max(iterable, key): функция возвращает наибольший элемент из итерируемого объекта (в данном случае, из словаря). Здесь iterable — это experience_dict, а key — это функция, которая определяет, как сравнивать элементы.\n",
    "\n",
    "\n",
    "min(iterable, key): функция возвращает наименьший элемент из итерируемого объекта\n",
    "\n",
    "key=experience_dict.get:\n",
    "\n",
    "    Здесь используется метод get словаря, который позволяет получить значение, соответствующее ключу. В данном случае, experience_dict.get будет возвращать опыт работы (число) для каждого сотрудника.\n",
    "    Когда мы передаем experience_dict.get в max() или min(), мы говорим функции, что мы хотим находить максимум или минимум по значениям (опыту) словаря, а не по ключам (именам сотрудников)."
   ]
  }
 ],
 "metadata": {
  "kernelspec": {
   "display_name": "base",
   "language": "python",
   "name": "python3"
  },
  "language_info": {
   "codemirror_mode": {
    "name": "ipython",
    "version": 3
   },
   "file_extension": ".py",
   "mimetype": "text/x-python",
   "name": "python",
   "nbconvert_exporter": "python",
   "pygments_lexer": "ipython3",
   "version": "3.12.2"
  }
 },
 "nbformat": 4,
 "nbformat_minor": 2
}
