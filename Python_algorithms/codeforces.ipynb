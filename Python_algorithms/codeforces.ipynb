{
    "cells": [
        {
            "cell_type": "code",
            "execution_count": 1,
            "id": "45184c15",
            "metadata": {},
            "outputs": [],
            "source": [
                "\"\"\"\n",
                "The code snippet `import sys`: imports the sys module in Python.\n",
                "\n",
                "This module provides access to some variables used or \n",
                "maintained by the interpreter\n",
                "and to functions that interact with the interpreter.\n",
                "\"\"\"\n",
                "\n",
                "import sys"
            ]
        },
        {
            "cell_type": "markdown",
            "id": "f62c861f",
            "metadata": {},
            "source": [
                "#### https://codeforces.com/problemset?order=BY_RATING_ASC&tags=math\n"
            ]
        },
        {
            "cell_type": "code",
            "execution_count": null,
            "id": "f52f8ebc",
            "metadata": {},
            "outputs": [],
            "source": [
                "watermelon_weight = int(input(\"Введите вес арбуза: \"))\n",
                "\n",
                "# Решение 1:\n",
                "if watermelon_weight % 2 == 0 and watermelon_weight > 2:\n",
                "    print(\"YES\")\n",
                "else:\n",
                "    print(\"NO\")"
            ]
        },
        {
            "cell_type": "markdown",
            "id": "0f3fefa0",
            "metadata": {},
            "source": [
                "#### https://codeforces.com/problemset/problem/50/A"
            ]
        },
        {
            "cell_type": "code",
            "execution_count": null,
            "id": "c57f4a47",
            "metadata": {},
            "outputs": [],
            "source": [
                "input_values1 = input()\n",
                "base, height = (int(i) for i in input_values1.split())\n",
                "print(int(base * height / 2))\n",
                "\n",
                "\n",
                "# 1) Функция input() используется для получения ввода\n",
                "# от пользователя и сохраняет введенные данные\n",
                "# в переменную list1 в виде строки\n",
                "# 2)Затем метод split() разбивает введенную\n",
                "# строку на отдельные элементы,\n",
                "# используя пробел в качестве разделителя\n",
                "# Результат разбиения преобразуется в список, и затем значения\n",
                "# в этом списке преобразуются в целые числа,\n",
                "# используя comprehensions в цикле for.\n",
                "# Как результат, a и b получают значения этих целых чисел.\n",
                "# Далее программа вычисляет площадь треугольника\n",
                "# по формуле (a  b) / 2 и\n",
                "# выводит результат с помощью функции print()."
            ]
        },
        {
            "cell_type": "markdown",
            "id": "fa616f77",
            "metadata": {},
            "source": [
                "#### https://codeforces.com/problemset/problem/158/A"
            ]
        },
        {
            "cell_type": "code",
            "execution_count": 11,
            "id": "57f148f4",
            "metadata": {},
            "outputs": [
                {
                    "name": "stdout",
                    "output_type": "stream",
                    "text": [
                        "1\n"
                    ]
                }
            ],
            "source": [
                "distance = int(input())\n",
                "# Этот код принимает входные данные distance\n",
                "# и вычисляет количество необходимых шагов.\n",
                "\n",
                "if distance % 5 == 0:  # Если distance делится на 5\n",
                "    steps_needed = distance // 5\n",
                "# он вычисляет шаги как distance // 5\n",
                "else:\n",
                "    steps_needed = distance // 5 + 1\n",
                "# В противном случае он добавляет 1 к результату\n",
                "\n",
                "print(steps_needed)"
            ]
        },
        {
            "cell_type": "code",
            "execution_count": 5,
            "id": "3475383d",
            "metadata": {},
            "outputs": [
                {
                    "name": "stdout",
                    "output_type": "stream",
                    "text": [
                        "2\n"
                    ]
                }
            ],
            "source": [
                "def calculate_steps() -> None:\n",
                "    \"\"\"\n",
                "    Вычисляет минимальное количество шагов.\n",
                "\n",
                "    Необходимых слону для достижения целевой позиции.\n",
                "    \"\"\"\n",
                "    destination = int(\n",
                "        input(\"Введите целевую позицию: \")\n",
                "    )  # Ввод пользователя и преобразование в целое число\n",
                "    current_position = 0  # Текущее положение слона\n",
                "    steps_count = 0  # Количество выполненных шагов\n",
                "    # Проверка, что введенное значение находится в допустимом диапазоне\n",
                "    if 1 <= destination <= 10**6:\n",
                "        while current_position < destination:\n",
                "            # Цикл продолжается, пока текущее положение слона меньше целевого\n",
                "            # Если целевая позиция больше или равна 5\n",
                "            if destination >= 5:\n",
                "                # Слон делает 5 шагов вперед\n",
                "                current_position += 5\n",
                "                # Увеличиваем количество шагов\n",
                "                steps_count += 1\n",
                "            elif destination == 4:\n",
                "                current_position += 4\n",
                "                steps_count += 1\n",
                "            elif destination == 3:\n",
                "                current_position += 3\n",
                "                steps_count += 1\n",
                "            elif destination == 2:\n",
                "                current_position += 2\n",
                "                steps_count += 1\n",
                "            elif destination == 1:\n",
                "                current_position += 1\n",
                "                steps_count += 1\n",
                "\n",
                "    print(steps_count)\n",
                "\n",
                "\n",
                "if __name__ == \"__main__\":\n",
                "    calculate_steps()"
            ]
        },
        {
            "cell_type": "markdown",
            "id": "18e6376f",
            "metadata": {},
            "source": [
                "https://codeforces.com/problemset/problem/546/A"
            ]
        },
        {
            "cell_type": "code",
            "execution_count": null,
            "id": "7e1d5ba1",
            "metadata": {},
            "outputs": [
                {
                    "ename": "SyntaxError",
                    "evalue": "Missing parentheses in call to 'print'. Did you mean print(...)? (3353975889.py, line 2)",
                    "output_type": "error",
                    "traceback": [
                        "\u001b[1;36m  Cell \u001b[1;32mIn[1], line 2\u001b[1;36m\u001b[0m\n\u001b[1;33m    print n/2-n*(n%2)\u001b[0m\n\u001b[1;37m    ^\u001b[0m\n\u001b[1;31mSyntaxError\u001b[0m\u001b[1;31m:\u001b[0m Missing parentheses in call to 'print'. Did you mean print(...)?\n"
                    ]
                }
            ],
            "source": [
                "number_two = int(input())\n",
                "print(number_two / 2 - number_two * (number_two % 2))\n",
                "\n",
                "# 1. В первой строке кода n=input()\n",
                "# происходит ввод значения переменной n с клавиатуры.\n",
                "# Введенное значение будет рассматриваться как строка.\n",
                "# 2. Далее, во второй строке кода print n/2-n*(n%2)\n",
                "# происходит вычисление выражения и его вывод на экран.\n",
                "# 1.1  - n*(n%2) означает умножение значения\n",
                "# n на остаток от деления n на 2.\n",
                "# Здесь % является оператором получения остатка от деления.\n",
                "# В данном случае, если n четное, остаток\n",
                "# от деления будет равен 0,\n",
                "# а если n нечетное, остаток будет равен 1.\n",
                "# 1.2 - n/2 означает деление значения n на 2\n",
                "# Результат этого деления будет вещественным числом.\n",
                "# Если введенное значение n было целым числом,\n",
                "# это деление также будет вещественным числом.\n",
                "\n",
                "# Итак, выражение n/2-n*(n%2) означает разность\n",
                "# между половиной значения n и\n",
                "# произведением значения n на его остаток от деления на 2."
            ]
        },
        {
            "cell_type": "code",
            "execution_count": 6,
            "id": "356a013e",
            "metadata": {},
            "outputs": [
                {
                    "name": "stdout",
                    "output_type": "stream",
                    "text": [
                        "2\n"
                    ]
                }
            ],
            "source": [
                "def f(first_number: int) -> int:\n",
                "    \"\"\"Функция принимает целое число и возвращает результат вычислений.\n",
                "\n",
                "    - Если число четное, возвращает его половину.\n",
                "    - Если число нечетное, возвращает отрицательное.\n",
                "    значение половины этого числа, уменьшенного на 1.\n",
                "\n",
                "    :param first_number: Целое число.\n",
                "    :return: Результат вычислений в виде целого числа.\n",
                "    \"\"\"\n",
                "    if first_number % 2 == 0:  # После if должно следовать выражение,\n",
                "        # результатом которого будет boolean\n",
                "        return first_number // 2\n",
                "\n",
                "    return (-first_number - 1) // 2\n",
                "\n",
                "\n",
                "# input(): функция возращает введенную пользователем строку до нажатия enter\n",
                "user_input = int(input())\n",
                "print(f(user_input))"
            ]
        },
        {
            "cell_type": "code",
            "execution_count": 7,
            "id": "e6c7c0dd",
            "metadata": {},
            "outputs": [
                {
                    "name": "stdout",
                    "output_type": "stream",
                    "text": [
                        "1\n"
                    ]
                }
            ],
            "source": [
                "total_numbers = int(input())  # Ввод целого числа от пользователя\n",
                "odd_count = 0\n",
                "even_count = 0\n",
                "\n",
                "if total_numbers == 1:\n",
                "    print(\"-1\")  # Если n равно 1, выводим \"-1\"\n",
                "else:\n",
                "    if total_numbers % 2 == 0:\n",
                "        odd_count = total_numbers // 2\n",
                "        even_count = total_numbers // 2\n",
                "    else:\n",
                "        odd_count = total_numbers // 2 + 1\n",
                "        even_count = total_numbers // 2\n",
                "\n",
                "    odd_start = -1\n",
                "    even_start = 2\n",
                "\n",
                "    if total_numbers % 2 == 0:\n",
                "        odd_end = -(total_numbers - 1)\n",
                "        even_end = total_numbers - 2  # Инициализация для четного случая\n",
                "    else:\n",
                "        odd_end = -total_numbers\n",
                "        even_end = total_numbers - 1\n",
                "\n",
                "    sum_odd = (odd_count * (odd_start + odd_end)) // 2\n",
                "    sum_even = (even_count * (even_start + even_end)) // 2\n",
                "\n",
                "    print(sum_odd + sum_even)"
            ]
        },
        {
            "cell_type": "markdown",
            "id": "c348bc14",
            "metadata": {},
            "source": [
                "https://codeforces.com/problemset/problem/486/A"
            ]
        },
        {
            "cell_type": "code",
            "execution_count": null,
            "id": "532663bc",
            "metadata": {},
            "outputs": [],
            "source": [
                "def calculate_function(even_number: int) -> float:\n",
                "    \"\"\"\n",
                "    Функция принимает целое число и возвращает результат вычислений:.\n",
                "\n",
                "    - Если число четное, возвращает его половину.\n",
                "    - Если число нечетное, возвращает отрицательное.\n",
                "    значение половины этого числа, увеличенного на 1.\n",
                "\n",
                "    :param even_number: Целое число.\n",
                "    :return: Результат вычислений в виде числа с плавающей точкой.\n",
                "    \"\"\"\n",
                "    even_number = int(input())\n",
                "\n",
                "    if even_number % 2 == 0:\n",
                "        return even_number / 2\n",
                "\n",
                "    return (even_number + 1) / 2 * (-1)\n",
                "\n",
                "\n",
                "even_numbe1 = int(input())\n",
                "\n",
                "result_first = calculate_function(even_numbe1)\n",
                "\n",
                "print(result_first)\n",
                "\n",
                "# 1)Запрашивает пользователя ввести\n",
                "# значение целого числа `n`\n",
                "# 2)Вызывает функцию `CalFunc(n)`,\n",
                "# передавая введенное значение `n` в качестве аргумента.\n",
                "# 3)Выводит целую часть результата вызова `CalFunc(n)`.\n",
                "\n",
                "# Примечание\n",
                "# Например, если было введено значение 5,\n",
                "# то функция `CalFunc(5)` вернет `-3,\n",
                "# так как (5+1)/2*(-1) = -3.\n",
                "# Основная программа затем выведет целую\n",
                "# часть -3, которая равна -3.\n",
                "\n",
                "# Таким образом, данная программа принимает число `n`,\n",
                "# применяет к нему определенную математическую\n",
                "# функцию в зависимости от того,\n",
                "# является ли оно четным или нечетным,\n",
                "# и выводит целую часть результата."
            ]
        },
        {
            "cell_type": "code",
            "execution_count": null,
            "id": "64515b44",
            "metadata": {},
            "outputs": [],
            "source": [
                "valueofn = int(input())\n",
                "\n",
                "if valueofn % 2 == 0:\n",
                "    output = valueofn // 2\n",
                "else:\n",
                "    output = ((valueofn + 1) // 2) * (-1)\n",
                "\n",
                "print(output)"
            ]
        },
        {
            "cell_type": "markdown",
            "id": "450d5bc0",
            "metadata": {},
            "source": [
                "https://codeforces.com/problemset/problem/200/B"
            ]
        },
        {
            "cell_type": "code",
            "execution_count": 1,
            "id": "2b0f870f",
            "metadata": {},
            "outputs": [
                {
                    "name": "stdout",
                    "output_type": "stream",
                    "text": [
                        "1.0\n"
                    ]
                }
            ],
            "source": [
                "print(1 / int(input()) * sum(map(int, input().split())))\n",
                "\n",
                "# 1. input() вызывается, чтобы принять ввод пользователя.\n",
                "# ункция input() приостанавливает выполнение программы и ожидает,\n",
                "# пока пользователь введет строку с клавиатуры.\n",
                "# Введенная строка будет\n",
                "# считываться как делимое в следующей части выражения.\n",
                "\n",
                "# 2. int(input()) берет введенную строку и преобразует ее в целое число.\n",
                "# Таким образом, пользовательский ввод будет\n",
                "# интерпретироваться как делитель в дальнейшем выражении.\n",
                "\n",
                "# 3. input().split() считывает ввод пользователя, а затем разбивает\n",
                "# его на отдельные элементы по пробелам.\n",
                "# Функция split() без аргументов разделяет строку на отдельные слова.\n",
                "# Распакуется в список слов,\n",
                "# которые будут использованы в следующей части выражения.\n",
                "\n",
                "# 4. map(int,input().split()) берет каждый элемент списка,\n",
                "# полученного из ввода пользователя,\n",
                "# и преобразует его в целое число с помощью функции int().\n",
                "# Таким образом,\n",
                "# все введенные пользователем значения будут преобразованы в числа.\n",
                "\n",
                "# 5. sum(map(int,input().split())) складывает все числа в списке,\n",
                "# полученном из ввода пользователя.\n",
                "\n",
                "# 6. 1/int(input()) берет введенное пользователем\n",
                "# число и вычисляет его обратную величину.\n",
                "\n",
                "# 7. * выполняет умножение между обратной величиной\n",
                "# числа и суммой чисел из ввода пользователя.\n",
                "\n",
                "# 8. print() выводит результат в stdout (стандартный поток вывода)."
            ]
        },
        {
            "cell_type": "markdown",
            "id": "728ddc69",
            "metadata": {},
            "source": [
                "#### https://codeforces.com/problemset/problem/200/B"
            ]
        },
        {
            "cell_type": "code",
            "execution_count": null,
            "id": "ee97d729",
            "metadata": {},
            "outputs": [],
            "source": [
                "count_of_numbers = int(input())  # Ввод общего количества чисел\n",
                "numbers = list(map(int, input().split()))\n",
                "# Ввод чисел и преобразование их в список целых чисел\n",
                "\n",
                "sum_of_numbers = 0\n",
                "# Инициализация переменной для хранения суммы чисел\n",
                "for number in numbers:\n",
                "    sum_of_numbers += number\n",
                "# Добавление текущего числа к сумме\n",
                "\n",
                "average = sum_of_numbers / count_of_numbers\n",
                "# Вычисление среднего значения\n",
                "print(average)\n",
                "# Вывод среднего значения"
            ]
        },
        {
            "cell_type": "markdown",
            "id": "72c5b25e",
            "metadata": {},
            "source": [
                "#### https://codeforces.com/problemset/problem/200/B\n",
                "\n"
            ]
        },
        {
            "cell_type": "code",
            "execution_count": 4,
            "id": "47803a35",
            "metadata": {},
            "outputs": [],
            "source": [
                "def main() -> float:\n",
                "    \"\"\"\n",
                "    Основная функция программы.\n",
                "\n",
                "    которая вычисляет среднее значение.\n",
                "    набора целых чисел, введенных пользователем.\n",
                "\n",
                "    :return: Среднее значение всех введенных.\n",
                "    чисел в виде числа с плавающей точкой.\n",
                "    \"\"\"\n",
                "    # Ввод количества элементов\n",
                "    number_of_elements = int(sys.stdin.readline())\n",
                "    # Ввод элементов и преобразование их в список целых чисел\n",
                "    elements = map(int, sys.stdin.readline().split())\n",
                "\n",
                "    # Вычисление суммы всех элементов\n",
                "    total_sum = sum(elements)\n",
                "    avg_value = total_sum / number_of_elements\n",
                "    # Вычисление среднего значения\n",
                "\n",
                "    return avg_value\n",
                "\n",
                "\n",
                "# Вывод среднего значения\n",
                "if __name__ == \"__main__\":\n",
                "    print(main())"
            ]
        },
        {
            "cell_type": "markdown",
            "id": "d218cb45",
            "metadata": {},
            "source": [
                "#### https://codeforces.com/problemset/problem/1328/A"
            ]
        },
        {
            "cell_type": "code",
            "execution_count": null,
            "id": "f62511da",
            "metadata": {},
            "outputs": [],
            "source": [
                "number_three = int(input())  # `number = int( input() )` -\n",
                "# Принимает целое число с клавиатуры и сохраняет его в переменной `number`.\n",
                "\n",
                "result = []  # 2. `result = [ ]` -\n",
                "# Создает пустой список с именем `result`,\n",
                "# который будет содержать результаты остатков от деления.\n",
                "\n",
                "\n",
                "for num in range(number_three):\n",
                "    # 3. `for num in range( number ) :`\n",
                "    # Начинается цикл, который будет выполняться `number` раз, где `number` -\n",
                "    # это число, введенное пользователем на первом шаге.\n",
                "\n",
                "    string = input().split()  # 4. `string = input().split()`\n",
                "    # - Принимает ввод с клавиатуры и разбивает его на отдельные слова,\n",
                "    # сохраняя в виде списка в переменной `string`.\n",
                "\n",
                "    num1 = int(string[0])  # num1 = int( string[ 0 ] )`\n",
                "    # Преобразует первый элемент списка `string`\n",
                "    # в целое число и сохраняет в переменной `num1`.\n",
                "    num2 = int(string[1])  # num2 = int( string[ 1 ] )`-\n",
                "    # Преобразует второй элемент списка `string`\n",
                "    # в целое число и сохраняет в переменной `num2`.\n",
                "\n",
                "    if num1 >= num2:  # 7. `if ( num1 >= num2 ) :`-\n",
                "        # Проверяет, является ли `num1` больше или равным `num2`.\n",
                "\n",
                "        if num1 % num2 == 0:  # 8. `if ( num1 % num2 == 0 )\n",
                "            # Проверяет, равен ли остаток\n",
                "            # от деления `num1` на `num2` нулю.\n",
                "\n",
                "            result.append(0)  # 9. `result.append( 0 )`-\n",
                "        # Если условия выполнены, добавляет `0` в список `result`.\n",
                "        else:\n",
                "\n",
                "            remainder = num2 - (num1 % num2)\n",
                "\n",
                "            result.append(remainder)\n",
                "\n",
                "    else:\n",
                "\n",
                "        remainder = num2 - num1\n",
                "\n",
                "        result.append(remainder)\n",
                "\n",
                "for output in result:\n",
                "\n",
                "    print(output)"
            ]
        },
        {
            "cell_type": "code",
            "execution_count": null,
            "id": "9353c2ed",
            "metadata": {},
            "outputs": [],
            "source": [
                "def calculate_modulo_difference() -> None:\n",
                "    \"\"\"\n",
                "    Главная функция, которая выполняет.\n",
                "\n",
                "    расчет для каждой пары чисел, введенных пользователем.\n",
                "    \"\"\"\n",
                "    test_cases: int = int(input(\"Введите кол тестовых случаев: \"))\n",
                "\n",
                "    for _ in range(test_cases):\n",
                "        dividend, divisor = map(\n",
                "            int, input(\"Введите два числа, разделенные пробелом: \").split()\n",
                "        )\n",
                "        result_the_same = (divisor - dividend % divisor) % divisor\n",
                "        print(result_the_same)\n",
                "\n",
                "\n",
                "if __name__ == \"__main__\":\n",
                "    calculate_modulo_difference()"
            ]
        }
    ],
    "metadata": {
        "kernelspec": {
            "display_name": "Python 3 (ipykernel)",
            "language": "python",
            "name": "python3"
        },
        "language_info": {
            "codemirror_mode": {
                "name": "ipython",
                "version": 3
            },
            "file_extension": ".py",
            "mimetype": "text/x-python",
            "name": "python",
            "nbconvert_exporter": "python",
            "pygments_lexer": "ipython3",
            "version": "3.11.5"
        }
    },
    "nbformat": 4,
    "nbformat_minor": 5
}
