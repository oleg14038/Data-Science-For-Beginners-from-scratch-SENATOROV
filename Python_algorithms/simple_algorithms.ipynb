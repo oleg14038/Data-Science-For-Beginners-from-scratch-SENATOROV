{
 "cells": [
  {
   "cell_type": "markdown",
   "metadata": {},
   "source": [
    "<!-- # Оперделить ли введенное число явяляеться простыми\n",
    "# Простое число которое делиться на себя или на 1\n",
    " -->\n"
   ]
  },
  {
   "cell_type": "code",
   "execution_count": null,
   "metadata": {},
   "outputs": [
    {
     "ename": "",
     "evalue": "",
     "output_type": "error",
     "traceback": [
      "\u001b[1;31mRunning cells with 'Python 3.8.10' requires the ipykernel package.\n",
      "\u001b[1;31mRun the following command to install 'ipykernel' into the Python environment. \n",
      "\u001b[1;31mCommand: '/usr/bin/python3 -m pip install ipykernel -U --user --force-reinstall'"
     ]
    }
   ],
   "source": [
    "\"\"\"\n",
    "Этот скрипт определяет, является ли введенное число простым.\n",
    "\n",
    "и выводит его делители, если оно непростое.\n",
    "\"\"\"\n",
    "\n",
    "a_n = int(input(\"Введите число: \"))\n",
    "\n",
    "k_coun = 0  # Записываем Количество делителей\n",
    "\n",
    "delit = []\n",
    "\n",
    "for ran in range(\n",
    "    1,\n",
    "    a_n + 1,\n",
    "):  # Перебераем число от 1 до a + 1 то есть само число включительно\n",
    "    if a_n % ran == 0:\n",
    "        k_coun += 1\n",
    "        delit.append(ran)\n",
    "if k_coun == 2:  # Если k == 2 то есть у простого числа 2 делителя\n",
    "    print(\"Число простое \")\n",
    "else:\n",
    "    print(\"Число непростое \")\n",
    "    print(delit)  # Выводит все делители числа"
   ]
  },
  {
   "cell_type": "markdown",
   "metadata": {},
   "source": [
    "<!-- # Найти сумму цифр введенного числа -->"
   ]
  },
  {
   "cell_type": "code",
   "execution_count": null,
   "metadata": {},
   "outputs": [],
   "source": [
    "b_val = int(input(\"Вв число: \"))\n",
    "summa = 0\n",
    "\n",
    "while b_val > 0:  # Пока число (a) больше 0\n",
    "    summa += b_val % 10  # Мы в нашу переменную summa прибавляем\n",
    "    # последние цифры числа в десятичной системы исчисление\n",
    "    b_val = (\n",
    "        b_val // 10\n",
    "    )  # отрезаем последнию цифру числа в десятичной системой исчесления\n",
    "print(summa)"
   ]
  },
  {
   "cell_type": "code",
   "execution_count": null,
   "metadata": {},
   "outputs": [],
   "source": [
    "# Дан список чисел превратить его в список квадратах этих чисел\n",
    "\n",
    "List_1 = [4, 5, 6, 7]\n",
    "list_2 = []\n",
    "\n",
    "for i_num in List_1:\n",
    "    list_2.append(i_num**2)\n",
    "print(list_2)\n",
    "\n",
    "List_3 = [4, 5, 6]\n",
    "\n",
    "list_4 = [x_num**2 for x_num in List_3]  # Генератор списков\n",
    "print(list_4)"
   ]
  },
  {
   "cell_type": "markdown",
   "metadata": {},
   "source": [
    "<!-- # Вводиться строка, требуеться удалить из нее повторяющийся символы и все пробелы -->"
   ]
  },
  {
   "cell_type": "code",
   "execution_count": null,
   "metadata": {},
   "outputs": [],
   "source": [
    "stroka = input(\"Введите строку \")\n",
    "stroka_new = \"\"\n",
    "\n",
    "for x_strk in stroka:\n",
    "    # Если сивола нет в новой  строке\n",
    "    # (stroka_newe) и этот символ не равен  пробелу\n",
    "    if x_strk not in stroka_new and x_strk != \"\":\n",
    "        stroka_new += x_strk\n",
    "print(stroka_new)"
   ]
  },
  {
   "cell_type": "markdown",
   "metadata": {},
   "source": [
    "<!-- # Вводится строка состаящий из слов разделенными  пробелами, требуется посчитать количествро слов в ней -->\n"
   ]
  },
  {
   "cell_type": "code",
   "execution_count": null,
   "metadata": {},
   "outputs": [],
   "source": [
    "s_son = input(\"Введите строку: \")\n",
    "k_koleb = 0\n",
    "for z_zon in s_son:\n",
    "    if z_zon == \" \":\n",
    "        k_koleb += 1\n",
    "print(k_koleb + 1)"
   ]
  },
  {
   "cell_type": "markdown",
   "metadata": {},
   "source": [
    "<!-- # Найти сумму цифр введенного числа -->"
   ]
  },
  {
   "cell_type": "code",
   "execution_count": null,
   "metadata": {},
   "outputs": [],
   "source": [
    "b_vv = int(input(\"Вв число: \"))\n",
    "summa = 0\n",
    "\n",
    "while b_vv > 0:  # Пока число (a) больше 0\n",
    "    summa += b_vv % 10  # Мы в нашу переменную summa прибавляем\n",
    "    # последние цифры числа в десятичной систему исчисления\n",
    "    b_vv = b_vv // 10  # отрезаем последнею цифру\n",
    "    # числа в десятичной системой исчисления\n",
    "print(summa)"
   ]
  },
  {
   "cell_type": "code",
   "execution_count": null,
   "metadata": {},
   "outputs": [],
   "source": [
    "# Дан список чисел превратить его в список квадратах этих чисел\n",
    "\n",
    "Lists1 = [4, 5, 6, 7]\n",
    "lists2 = []\n",
    "\n",
    "for i_va in Lists1:\n",
    "    lists2.append(i_va**2)\n",
    "print(lists2)\n",
    "\n",
    "Lists3 = [4, 5, 6]\n",
    "\n",
    "lists4 = [x_gen**2 for x_gen in Lists3]  # Генератор списков\n",
    "print(lists4)"
   ]
  },
  {
   "cell_type": "code",
   "execution_count": null,
   "metadata": {},
   "outputs": [],
   "source": [
    "# Вводиться строка, трубиться удалить из н\n",
    "# ее повторяющийся символы и все пробелы\n",
    "strok = input(\"Введите строку \")\n",
    "strok_newe = \"\"\n",
    "\n",
    "for x_no in strok:\n",
    "    # Если сивола нет в новой  строке\n",
    "    # (stroka_newe) и этот символ не равен  пробелу\n",
    "    if x_no not in strok_newe and strok != \"\":\n",
    "        strok_newe += x_no\n",
    "print(strok_newe)"
   ]
  },
  {
   "cell_type": "code",
   "execution_count": null,
   "metadata": {},
   "outputs": [],
   "source": [
    "# Вводится строка состаящий из слов разделенными  пробелами,\n",
    "# требуется посчитать количествро слов в ней\n",
    "s_sup = input(\"Введите строку: \")\n",
    "k_one = 0\n",
    "for z_zed in s_sup:\n",
    "    if z_zed == \" \":\n",
    "        k_one += 1\n",
    "print(k_one + 1)\n",
    "\n",
    "s2 = input(\"Введите str: \")\n",
    "print(len(s2.split()))  # метод split преобразует\n",
    "# разбивать строку на список"
   ]
  },
  {
   "cell_type": "code",
   "execution_count": 1,
   "metadata": {},
   "outputs": [
    {
     "ename": "IndexError",
     "evalue": "list index out of range",
     "output_type": "error",
     "traceback": [
      "\u001b[1;31m---------------------------------------------------------------------------\u001b[0m",
      "\u001b[1;31mIndexError\u001b[0m                                Traceback (most recent call last)",
      "Cell \u001b[1;32mIn[1], line 8\u001b[0m\n\u001b[0;32m      5\u001b[0m data2 \u001b[38;5;241m=\u001b[39m data\u001b[38;5;241m.\u001b[39msplit(\u001b[38;5;124m\"\u001b[39m\u001b[38;5;124m.\u001b[39m\u001b[38;5;124m\"\u001b[39m)\n\u001b[0;32m      7\u001b[0m day \u001b[38;5;241m=\u001b[39m data2[\u001b[38;5;241m0\u001b[39m]\n\u001b[1;32m----> 8\u001b[0m month \u001b[38;5;241m=\u001b[39m \u001b[43mdata2\u001b[49m\u001b[43m[\u001b[49m\u001b[38;5;241;43m1\u001b[39;49m\u001b[43m]\u001b[49m\n\u001b[0;32m      9\u001b[0m year \u001b[38;5;241m=\u001b[39m data2[\u001b[38;5;241m2\u001b[39m]\n\u001b[0;32m     10\u001b[0m \u001b[38;5;28msum\u001b[39m \u001b[38;5;241m=\u001b[39m \u001b[38;5;241m0\u001b[39m\n",
      "\u001b[1;31mIndexError\u001b[0m: list index out of range"
     ]
    }
   ],
   "source": [
    "# Ввод даты рождения\n",
    "date = input(\"Введите дату рождения в формате ДД.ММ.ГГ: \")\n",
    "\n",
    "# Разделение строки на день, месяц и год\n",
    "day_str, month_str, year_str = date.split(\".\")\n",
    "\n",
    "# Преобразование строк в целые числа\n",
    "day = int(day_str)\n",
    "month = int(month_str)\n",
    "year = int(year_str)\n",
    "\n",
    "# Инициализация переменной для хранения суммы цифр\n",
    "total_sum = 0\n",
    "\n",
    "# Суммирование цифр дня\n",
    "while day > 0:\n",
    "    total_sum += day % 10\n",
    "    day //= 10\n",
    "\n",
    "# Суммирование цифр месяца\n",
    "while month > 0:\n",
    "    total_sum += month % 10\n",
    "    month //= 10\n",
    "\n",
    "# Суммирование цифр года\n",
    "while year > 0:\n",
    "    total_sum += year % 10\n",
    "    year //= 10\n",
    "\n",
    "# Преобразование суммы в однозначное число\n",
    "while total_sum >= 10:\n",
    "    temp_sum = 0\n",
    "    while total_sum > 0:\n",
    "        temp_sum += total_sum % 10\n",
    "        total_sum //= 10\n",
    "    total_sum = temp_sum\n",
    "\n",
    "print(\"Ваше счастливое число:\", total_sum)"
   ]
  }
 ],
 "metadata": {
  "kernelspec": {
   "display_name": "Python 3",
   "language": "python",
   "name": "python3"
  },
  "language_info": {
   "codemirror_mode": {
    "name": "ipython",
    "version": 3
   },
   "file_extension": ".py",
   "mimetype": "text/x-python",
   "name": "python",
   "nbconvert_exporter": "python",
   "pygments_lexer": "ipython3",
   "version": "3.8.10"
  }
 },
 "nbformat": 4,
 "nbformat_minor": 2
}
