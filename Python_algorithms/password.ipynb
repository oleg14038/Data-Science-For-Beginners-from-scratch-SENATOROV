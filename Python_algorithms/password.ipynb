{
    "cells": [
        {
            "cell_type": "code",
            "execution_count": null,
            "metadata": {},
            "outputs": [],
            "source": [
                "\"\"\"The code snippet is a Python program that prompts the user.\n",
                "\n",
                "for their name and a password. Here's a breakdown of what it does:.'\n",
                "\"\"\"\n",
                "\n",
                "while True:\n",
                "    print(\"Who are you ?\")\n",
                "    name3 = input(\"Введите ИМЯ\")\n",
                "    if name3 != \"Joe\":\n",
                "        continue  # Инструкция continue если name if name не равен\n",
                "        # Joe' то инструкция передаеться в начала цикла\n",
                "    print(\"Helli,Joe. What is the password ? (It is a fish)\")\n",
                "    password = input(\"Введиете пароль\")\n",
                "    if password == \"18.05.93\":\n",
                "        break\n",
                "print(\"Access granted. \")"]}],
    "metadata": {
        "kernelspec": {
            "display_name": "Python 3",
            "language": "python",
                        "name": "python3"},
        "language_info": {
            "codemirror_mode": {
                "name": "ipython",
                "version": 3},
            "file_extension": ".py",
            "mimetype": "text/x-python",
            "name": "python",
            "nbconvert_exporter": "python",
            "pygments_lexer": "ipython3",
            "version": "3.12.0"}},
    "nbformat": 4,
    "nbformat_minor": 2}
